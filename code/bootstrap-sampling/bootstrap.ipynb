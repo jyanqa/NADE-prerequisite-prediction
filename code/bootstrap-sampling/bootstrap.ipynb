{
 "cells": [
  {
   "cell_type": "code",
   "execution_count": 2,
   "metadata": {},
   "outputs": [],
   "source": [
    "import numpy as np"
   ]
  },
  {
   "cell_type": "code",
   "execution_count": 1,
   "metadata": {},
   "outputs": [],
   "source": [
    "EVAL_TYPE_ACC = \"acc\"\n",
    "EVAL_TYPE_BLEU = \"bleu\"\n",
    "EVAL_TYPE_BLEU_DETOK = \"bleu_detok\"\n",
    "EVAL_TYPE_PEARSON = \"pearson\"\n",
    "\n",
    "EVAL_TYPES = [EVAL_TYPE_ACC,\n",
    "              EVAL_TYPE_BLEU,\n",
    "              EVAL_TYPE_BLEU_DETOK,\n",
    "              EVAL_TYPE_PEARSON]"
   ]
  },
  {
   "cell_type": "code",
   "execution_count": 4,
   "metadata": {},
   "outputs": [],
   "source": [
    "def eval_preproc(data, eval_type='acc'):\n",
    "  ''' Preprocess into the appropriate format for a particular evaluation type '''\n",
    "  if type(data) == str:\n",
    "    data = data.strip()\n",
    "    if eval_type == EVAL_TYPE_BLEU:\n",
    "      data = data.split()\n",
    "    elif eval_type == EVAL_TYPE_PEARSON:\n",
    "      data = float(data)\n",
    "  return data"
   ]
  },
  {
   "cell_type": "code",
   "execution_count": 6,
   "metadata": {},
   "outputs": [],
   "source": [
    "def eval_measure(gold, sys, eval_type='acc'):\n",
    "  ''' Evaluation measure\n",
    "  \n",
    "  This takes in gold labels and system outputs and evaluates their\n",
    "  accuracy. It currently supports:\n",
    "  * Accuracy (acc), percentage of labels that match\n",
    "  * Pearson's correlation coefficient (pearson)\n",
    "  * BLEU score (bleu)\n",
    "  * BLEU_detok, on detokenized references and translations, with internal tokenization\n",
    "\n",
    "  :param gold: the correct labels\n",
    "  :param sys: the system outputs\n",
    "  :param eval_type: The type of evaluation to do (acc, pearson, bleu, bleu_detok)\n",
    "  '''\n",
    "  if eval_type == EVAL_TYPE_ACC:\n",
    "    return sum([1 if g == s else 0 for g, s in zip(gold, sys)]) / float(len(gold))\n",
    "  elif eval_type == EVAL_TYPE_BLEU:\n",
    "    import nltk\n",
    "    gold_wrap = [[x] for x in gold]\n",
    "    return nltk.translate.bleu_score.corpus_bleu(gold_wrap, sys)\n",
    "  elif eval_type == EVAL_TYPE_PEARSON:\n",
    "    return np.corrcoef([gold, sys])[0,1]\n",
    "  elif eval_type == EVAL_TYPE_BLEU_DETOK:\n",
    "    import sacrebleu\n",
    "    # make sure score is 0-based instead of 100-based\n",
    "    return sacrebleu.corpus_bleu(sys, [gold]).score / 100.\n",
    "  else:\n",
    "    raise NotImplementedError('Unknown eval type in eval_measure: %s' % eval_type)"
   ]
  },
  {
   "cell_type": "code",
   "execution_count": 8,
   "metadata": {},
   "outputs": [],
   "source": [
    "def eval_with_paired_bootstrap(gold, sys1, sys2,\n",
    "                               num_samples=10000, sample_ratio=0.5,\n",
    "                               eval_type='acc'):\n",
    "  ''' Evaluate with paired boostrap\n",
    "\n",
    "  This compares two systems, performing a significance tests with\n",
    "  paired bootstrap resampling to compare the accuracy of the two systems.\n",
    "  \n",
    "  :param gold: The correct labels\n",
    "  :param sys1: The output of system 1\n",
    "  :param sys2: The output of system 2\n",
    "  :param num_samples: The number of bootstrap samples to take\n",
    "  :param sample_ratio: The ratio of samples to take every time\n",
    "  :param eval_type: The type of evaluation to do (acc, pearson, bleu, bleu_detok)\n",
    "  '''\n",
    "  assert(len(gold) == len(sys1))\n",
    "  assert(len(gold) == len(sys2))\n",
    "  \n",
    "  # Preprocess the data appropriately for they type of eval\n",
    "  gold = [eval_preproc(x, eval_type) for x in gold]\n",
    "  sys1 = [eval_preproc(x, eval_type) for x in sys1]\n",
    "  sys2 = [eval_preproc(x, eval_type) for x in sys2]\n",
    "\n",
    "  sys1_scores = []\n",
    "  sys2_scores = []\n",
    "  wins = [0, 0, 0]\n",
    "  n = len(gold)\n",
    "  ids = list(range(n))\n",
    "\n",
    "  for _ in range(num_samples):\n",
    "    # Subsample the gold and system outputs\n",
    "    reduced_ids = np.random.choice(ids,int(len(ids)*sample_ratio),replace=True)\n",
    "    reduced_gold = [gold[i] for i in reduced_ids]\n",
    "    reduced_sys1 = [sys1[i] for i in reduced_ids]\n",
    "    reduced_sys2 = [sys2[i] for i in reduced_ids]\n",
    "    # Calculate accuracy on the reduced sample and save stats\n",
    "    sys1_score = eval_measure(reduced_gold, reduced_sys1, eval_type=eval_type)\n",
    "    sys2_score = eval_measure(reduced_gold, reduced_sys2, eval_type=eval_type)\n",
    "    if sys1_score > sys2_score:\n",
    "      wins[0] += 1\n",
    "    elif sys1_score < sys2_score:\n",
    "      wins[1] += 1\n",
    "    else:\n",
    "      wins[2] += 1\n",
    "    sys1_scores.append(sys1_score)\n",
    "    sys2_scores.append(sys2_score)\n",
    "\n",
    "  # Print win stats\n",
    "  wins = [x/float(num_samples) for x in wins]\n",
    "  print('Win ratio: sys1=%.3f, sys2=%.3f, tie=%.3f' % (wins[0], wins[1], wins[2]))\n",
    "  if wins[0] > wins[1]:\n",
    "    print('(sys1 is superior with p value p=%.3f)\\n' % (1-wins[0]))\n",
    "  elif wins[1] > wins[0]:\n",
    "    print('(sys2 is superior with p value p=%.3f)\\n' % (1-wins[1]))\n",
    "\n",
    "  # Print system stats\n",
    "  sys1_scores.sort()\n",
    "  sys2_scores.sort()\n",
    "  print('sys1 mean=%.3f, median=%.3f, 95%% confidence interval=[%.3f, %.3f]' %\n",
    "          (np.mean(sys1_scores), np.median(sys1_scores), sys1_scores[int(num_samples * 0.025)], sys1_scores[int(num_samples * 0.975)]))\n",
    "  print('sys2 mean=%.3f, median=%.3f, 95%% confidence interval=[%.3f, %.3f]' %\n",
    "          (np.mean(sys2_scores), np.median(sys2_scores), sys2_scores[int(num_samples * 0.025)], sys2_scores[int(num_samples * 0.975)]))\n"
   ]
  },
  {
   "cell_type": "code",
   "execution_count": 10,
   "metadata": {},
   "outputs": [
    {
     "ename": "NameError",
     "evalue": "name 'gold' is not defined",
     "output_type": "error",
     "traceback": [
      "\u001b[0;31m---------------------------------------------------------------------------\u001b[0m",
      "\u001b[0;31mNameError\u001b[0m                                 Traceback (most recent call last)",
      "\u001b[0;32m/var/folders/v4/krlcpnt52353p49_jcdkjjnw0000gn/T/ipykernel_21739/256659757.py\u001b[0m in \u001b[0;36m<module>\u001b[0;34m\u001b[0m\n\u001b[1;32m     18\u001b[0m \u001b[0;34m\u001b[0m\u001b[0m\n\u001b[1;32m     19\u001b[0m \u001b[0;31m#   eval_with_paired_bootstrap(gold, sys1, sys2, eval_type=args.eval_type, num_samples=args.num_samples)\u001b[0m\u001b[0;34m\u001b[0m\u001b[0;34m\u001b[0m\u001b[0m\n\u001b[0;32m---> 20\u001b[0;31m \u001b[0meval_with_paired_bootstrap\u001b[0m\u001b[0;34m(\u001b[0m\u001b[0mgold\u001b[0m\u001b[0;34m,\u001b[0m \u001b[0msys1\u001b[0m\u001b[0;34m,\u001b[0m \u001b[0msys2\u001b[0m\u001b[0;34m,\u001b[0m \u001b[0meval_type\u001b[0m\u001b[0;34m=\u001b[0m\u001b[0margs\u001b[0m\u001b[0;34m.\u001b[0m\u001b[0meval_type\u001b[0m\u001b[0;34m,\u001b[0m \u001b[0mnum_samples\u001b[0m\u001b[0;34m=\u001b[0m\u001b[0margs\u001b[0m\u001b[0;34m.\u001b[0m\u001b[0mnum_samples\u001b[0m\u001b[0;34m)\u001b[0m\u001b[0;34m\u001b[0m\u001b[0;34m\u001b[0m\u001b[0m\n\u001b[0m",
      "\u001b[0;31mNameError\u001b[0m: name 'gold' is not defined"
     ]
    }
   ],
   "source": [
    "\n",
    "# if __name__ == \"__main__\":\n",
    "#   # execute only if run as a script\n",
    "#   import argparse\n",
    "#   parser = argparse.ArgumentParser()\n",
    "#   parser.add_argument('gold', help='File of the correct answers')\n",
    "#   parser.add_argument('sys1', help='File of the answers for system 1')\n",
    "#   parser.add_argument('sys2', help='File of the answers for system 2')\n",
    "#   parser.add_argument('--eval_type', help='The evaluation type (acc/pearson/bleu/bleu_detok)', type=str, default='acc', choices=EVAL_TYPES)\n",
    "#   parser.add_argument('--num_samples', help='Number of samples to use', type=int, default=10000)\n",
    "#   args = parser.parse_args()\n",
    "  \n",
    "#   with open(args.gold, 'r') as f:\n",
    "#     gold = f.readlines() \n",
    "#   with open(args.sys1, 'r') as f:\n",
    "#     sys1 = f.readlines() \n",
    "#   with open(args.sys2, 'r') as f:\n",
    "#     sys2 = f.readlines() \n",
    "\n",
    "#   eval_with_paired_bootstrap(gold, sys1, sys2, eval_type=args.eval_type, num_samples=args.num_samples)\n",
    "eval_with_paired_bootstrap(gold, sys1, sys2, eval_type=args.eval_type, num_samples=args.num_samples)"
   ]
  },
  {
   "cell_type": "code",
   "execution_count": null,
   "metadata": {},
   "outputs": [],
   "source": [
    "# import t5.csv file and transform it to txt file\n"
   ]
  }
 ],
 "metadata": {
  "kernelspec": {
   "display_name": "Python 3",
   "language": "python",
   "name": "python3"
  },
  "language_info": {
   "codemirror_mode": {
    "name": "ipython",
    "version": 3
   },
   "file_extension": ".py",
   "mimetype": "text/x-python",
   "name": "python",
   "nbconvert_exporter": "python",
   "pygments_lexer": "ipython3",
   "version": "3.9.7"
  }
 },
 "nbformat": 4,
 "nbformat_minor": 2
}
