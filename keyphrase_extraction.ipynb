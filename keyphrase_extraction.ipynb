{
  "cells": [
    {
      "cell_type": "code",
      "execution_count": 12,
      "metadata": {
        "id": "RMf20CeTmvLt"
      },
      "outputs": [],
      "source": [
        "# !pip install accelerate\n",
        "# !pip install transformers[torch]\n",
        "# !pip install accelerate -U"
      ]
    },
    {
      "cell_type": "code",
      "execution_count": 13,
      "metadata": {
        "colab": {
          "base_uri": "https://localhost:8080/"
        },
        "id": "L5-xrxV6_bJA",
        "outputId": "6ad64bfe-bd0e-492e-97e7-433f73c20adc"
      },
      "outputs": [
        {
          "name": "stdout",
          "output_type": "stream",
          "text": [
            "Requirement already satisfied: transformers in /usr/local/lib/python3.10/dist-packages (4.34.0)\n",
            "Requirement already satisfied: filelock in /usr/local/lib/python3.10/dist-packages (from transformers) (3.12.4)\n",
            "Requirement already satisfied: huggingface-hub<1.0,>=0.16.4 in /usr/local/lib/python3.10/dist-packages (from transformers) (0.17.3)\n",
            "Requirement already satisfied: numpy>=1.17 in /usr/local/lib/python3.10/dist-packages (from transformers) (1.23.5)\n",
            "Requirement already satisfied: packaging>=20.0 in /usr/local/lib/python3.10/dist-packages (from transformers) (23.2)\n",
            "Requirement already satisfied: pyyaml>=5.1 in /usr/local/lib/python3.10/dist-packages (from transformers) (6.0.1)\n",
            "Requirement already satisfied: regex!=2019.12.17 in /usr/local/lib/python3.10/dist-packages (from transformers) (2023.6.3)\n",
            "Requirement already satisfied: requests in /usr/local/lib/python3.10/dist-packages (from transformers) (2.31.0)\n",
            "Requirement already satisfied: tokenizers<0.15,>=0.14 in /usr/local/lib/python3.10/dist-packages (from transformers) (0.14.1)\n",
            "Requirement already satisfied: safetensors>=0.3.1 in /usr/local/lib/python3.10/dist-packages (from transformers) (0.4.0)\n",
            "Requirement already satisfied: tqdm>=4.27 in /usr/local/lib/python3.10/dist-packages (from transformers) (4.66.1)\n",
            "Requirement already satisfied: fsspec in /usr/local/lib/python3.10/dist-packages (from huggingface-hub<1.0,>=0.16.4->transformers) (2023.6.0)\n",
            "Requirement already satisfied: typing-extensions>=3.7.4.3 in /usr/local/lib/python3.10/dist-packages (from huggingface-hub<1.0,>=0.16.4->transformers) (4.5.0)\n",
            "Requirement already satisfied: charset-normalizer<4,>=2 in /usr/local/lib/python3.10/dist-packages (from requests->transformers) (3.3.0)\n",
            "Requirement already satisfied: idna<4,>=2.5 in /usr/local/lib/python3.10/dist-packages (from requests->transformers) (3.4)\n",
            "Requirement already satisfied: urllib3<3,>=1.21.1 in /usr/local/lib/python3.10/dist-packages (from requests->transformers) (2.0.6)\n",
            "Requirement already satisfied: certifi>=2017.4.17 in /usr/local/lib/python3.10/dist-packages (from requests->transformers) (2023.7.22)\n"
          ]
        }
      ],
      "source": [
        "!pip install transformers"
      ]
    },
    {
      "cell_type": "code",
      "execution_count": 90,
      "metadata": {
        "colab": {
          "base_uri": "https://localhost:8080/"
        },
        "id": "RKukKxFMBM0w",
        "outputId": "68d7f662-7ce0-4e82-bb51-d60c9a211113"
      },
      "outputs": [
        {
          "name": "stdout",
          "output_type": "stream",
          "text": [
            "Requirement already satisfied: datasets in /usr/local/lib/python3.10/dist-packages (2.14.5)\n",
            "Requirement already satisfied: numpy>=1.17 in /usr/local/lib/python3.10/dist-packages (from datasets) (1.23.5)\n",
            "Requirement already satisfied: pyarrow>=8.0.0 in /usr/local/lib/python3.10/dist-packages (from datasets) (9.0.0)\n",
            "Requirement already satisfied: dill<0.3.8,>=0.3.0 in /usr/local/lib/python3.10/dist-packages (from datasets) (0.3.7)\n",
            "Requirement already satisfied: pandas in /usr/local/lib/python3.10/dist-packages (from datasets) (1.5.3)\n",
            "Requirement already satisfied: requests>=2.19.0 in /usr/local/lib/python3.10/dist-packages (from datasets) (2.31.0)\n",
            "Requirement already satisfied: tqdm>=4.62.1 in /usr/local/lib/python3.10/dist-packages (from datasets) (4.66.1)\n",
            "Requirement already satisfied: xxhash in /usr/local/lib/python3.10/dist-packages (from datasets) (3.4.1)\n",
            "Requirement already satisfied: multiprocess in /usr/local/lib/python3.10/dist-packages (from datasets) (0.70.15)\n",
            "Requirement already satisfied: fsspec[http]<2023.9.0,>=2023.1.0 in /usr/local/lib/python3.10/dist-packages (from datasets) (2023.6.0)\n",
            "Requirement already satisfied: aiohttp in /usr/local/lib/python3.10/dist-packages (from datasets) (3.8.5)\n",
            "Requirement already satisfied: huggingface-hub<1.0.0,>=0.14.0 in /usr/local/lib/python3.10/dist-packages (from datasets) (0.17.3)\n",
            "Requirement already satisfied: packaging in /usr/local/lib/python3.10/dist-packages (from datasets) (23.2)\n",
            "Requirement already satisfied: pyyaml>=5.1 in /usr/local/lib/python3.10/dist-packages (from datasets) (6.0.1)\n",
            "Requirement already satisfied: attrs>=17.3.0 in /usr/local/lib/python3.10/dist-packages (from aiohttp->datasets) (23.1.0)\n",
            "Requirement already satisfied: charset-normalizer<4.0,>=2.0 in /usr/local/lib/python3.10/dist-packages (from aiohttp->datasets) (3.3.0)\n",
            "Requirement already satisfied: multidict<7.0,>=4.5 in /usr/local/lib/python3.10/dist-packages (from aiohttp->datasets) (6.0.4)\n",
            "Requirement already satisfied: async-timeout<5.0,>=4.0.0a3 in /usr/local/lib/python3.10/dist-packages (from aiohttp->datasets) (4.0.3)\n",
            "Requirement already satisfied: yarl<2.0,>=1.0 in /usr/local/lib/python3.10/dist-packages (from aiohttp->datasets) (1.9.2)\n",
            "Requirement already satisfied: frozenlist>=1.1.1 in /usr/local/lib/python3.10/dist-packages (from aiohttp->datasets) (1.4.0)\n",
            "Requirement already satisfied: aiosignal>=1.1.2 in /usr/local/lib/python3.10/dist-packages (from aiohttp->datasets) (1.3.1)\n",
            "Requirement already satisfied: filelock in /usr/local/lib/python3.10/dist-packages (from huggingface-hub<1.0.0,>=0.14.0->datasets) (3.12.4)\n",
            "Requirement already satisfied: typing-extensions>=3.7.4.3 in /usr/local/lib/python3.10/dist-packages (from huggingface-hub<1.0.0,>=0.14.0->datasets) (4.5.0)\n",
            "Requirement already satisfied: idna<4,>=2.5 in /usr/local/lib/python3.10/dist-packages (from requests>=2.19.0->datasets) (3.4)\n",
            "Requirement already satisfied: urllib3<3,>=1.21.1 in /usr/local/lib/python3.10/dist-packages (from requests>=2.19.0->datasets) (2.0.6)\n",
            "Requirement already satisfied: certifi>=2017.4.17 in /usr/local/lib/python3.10/dist-packages (from requests>=2.19.0->datasets) (2023.7.22)\n",
            "Requirement already satisfied: python-dateutil>=2.8.1 in /usr/local/lib/python3.10/dist-packages (from pandas->datasets) (2.8.2)\n",
            "Requirement already satisfied: pytz>=2020.1 in /usr/local/lib/python3.10/dist-packages (from pandas->datasets) (2023.3.post1)\n",
            "Requirement already satisfied: six>=1.5 in /usr/local/lib/python3.10/dist-packages (from python-dateutil>=2.8.1->pandas->datasets) (1.16.0)\n"
          ]
        }
      ],
      "source": [
        "!pip install datasets"
      ]
    },
    {
      "cell_type": "code",
      "execution_count": 137,
      "metadata": {
        "id": "h5diBJj9yrVy"
      },
      "outputs": [],
      "source": [
        "from datasets import load_dataset\n",
        "from transformers import AutoTokenizer\n",
        "import numpy as np"
      ]
    },
    {
      "attachments": {},
      "cell_type": "markdown",
      "metadata": {
        "id": "DhRSTk-vKUqK"
      },
      "source": [
        "### pre_process functions"
      ]
    },
    {
      "cell_type": "code",
      "execution_count": 138,
      "metadata": {
        "colab": {
          "base_uri": "https://localhost:8080/",
          "height": 83,
          "referenced_widgets": [
            "8f6bcd329d7a40079333b99a1ab88793",
            "adae882427ff4e73baf78ae6537f226b",
            "51444c9b7aa24f9abbccff3cf84329db",
            "9dabb318d90147e5b3532e8611700c3f",
            "510b3e8350b845c8a4ff1bec89baea9c",
            "445add9e6c434140af62594131ca3d6f",
            "17ef69558d734ca2a906f828f5b193b2",
            "680e0d2ceb7e40b7997f4e7953f04dc2",
            "bdb03e096b5b413b82444c57376b0b20",
            "4c39798c2c8945159f60953cad4cbab8",
            "a2a54b71548844bdad2b5da29e42f1c1"
          ]
        },
        "id": "iDLYkFGkBBX1",
        "outputId": "c73bde3a-8b8e-4348-b33b-d343f7f60268"
      },
      "outputs": [
        {
          "name": "stderr",
          "output_type": "stream",
          "text": [
            "Repo card metadata block was not found. Setting CardData to empty.\n",
            "WARNING:huggingface_hub.repocard:Repo card metadata block was not found. Setting CardData to empty.\n"
          ]
        },
        {
          "data": {
            "application/vnd.jupyter.widget-view+json": {
              "model_id": "8f6bcd329d7a40079333b99a1ab88793",
              "version_major": 2,
              "version_minor": 0
            },
            "text/plain": [
              "Map:   0%|          | 0/500 [00:00<?, ? examples/s]"
            ]
          },
          "metadata": {},
          "output_type": "display_data"
        }
      ],
      "source": [
        "\n",
        "# Labels\n",
        "label_list = [\"B\", \"I\", \"O\"]\n",
        "lbl2idx = {\"B\": 0, \"I\": 1, \"O\": 2}\n",
        "idx2label = {0: \"B\", 1: \"I\", 2: \"O\"}\n",
        "\n",
        "# Tokenizer\n",
        "# tokenizer = AutoTokenizer.from_pretrained(\"bloomberg/KBIR\", add_prefix_space=True)\n",
        "tokenizer = AutoTokenizer.from_pretrained(\"distilbert-base-uncased\")\n",
        "max_length = 512\n",
        "\n",
        "# Dataset parameters\n",
        "dataset_full_name = \"midas/inspec\"\n",
        "dataset_subset = \"raw\"\n",
        "dataset_document_column = \"document\"\n",
        "dataset_biotags_column = \"doc_bio_tags\"\n",
        "\n",
        "def preprocess_fuction(all_samples_per_split):\n",
        "    tokenized_samples = tokenizer.batch_encode_plus(\n",
        "        all_samples_per_split[dataset_document_column],\n",
        "        padding=\"max_length\",\n",
        "        truncation=True,\n",
        "        is_split_into_words=True,\n",
        "        max_length=max_length,\n",
        "    )\n",
        "    total_adjusted_labels = []\n",
        "    for k in range(0, len(tokenized_samples[\"input_ids\"])):\n",
        "        prev_wid = -1\n",
        "        word_ids_list = tokenized_samples.word_ids(batch_index=k)\n",
        "        existing_label_ids = all_samples_per_split[dataset_biotags_column][k]\n",
        "        i = -1\n",
        "        adjusted_label_ids = []\n",
        "\n",
        "        for wid in word_ids_list:\n",
        "            if wid is None:\n",
        "                adjusted_label_ids.append(lbl2idx[\"O\"])\n",
        "            elif wid != prev_wid:\n",
        "                i = i + 1\n",
        "                adjusted_label_ids.append(lbl2idx[existing_label_ids[i]])\n",
        "                prev_wid = wid\n",
        "            else:\n",
        "                adjusted_label_ids.append(\n",
        "                    lbl2idx[\n",
        "                        f\"{'I' if existing_label_ids[i] == 'B' else existing_label_ids[i]}\"\n",
        "                    ]\n",
        "                )\n",
        "\n",
        "        total_adjusted_labels.append(adjusted_label_ids)\n",
        "    tokenized_samples[\"labels\"] = total_adjusted_labels\n",
        "    return tokenized_samples\n",
        "\n",
        "# Load dataset\n",
        "dataset = load_dataset(dataset_full_name, dataset_subset)\n",
        "\n",
        "# Preprocess dataset\n",
        "tokenized_dataset = dataset.map(preprocess_fuction, batched=True)\n",
        "\n"
      ]
    },
    {
      "cell_type": "code",
      "execution_count": 139,
      "metadata": {
        "id": "jj8FGeFqBl9B"
      },
      "outputs": [],
      "source": [
        "################################# POST PROCESS FUNCTION\n",
        "# # Define post_process functions\n",
        "# def concat_tokens_by_tag(keyphrases):\n",
        "#     keyphrase_tokens = []\n",
        "#     for id, label in keyphrases:\n",
        "#         if label == \"B\":\n",
        "#             keyphrase_tokens.append([id])\n",
        "#         elif label == \"I\":\n",
        "#             if len(keyphrase_tokens) > 0:\n",
        "#                 keyphrase_tokens[len(keyphrase_tokens) - 1].append(id)\n",
        "#     return keyphrase_tokens\n",
        "\n",
        "\n",
        "# def extract_keyphrases(example, predictions, tokenizer, index=0):\n",
        "#     keyphrases_list = [\n",
        "#         (id, idx2label[label])\n",
        "#         for id, label in zip(\n",
        "#             np.array(example[\"input_ids\"]).squeeze().tolist(), predictions[index]\n",
        "#         )\n",
        "#         if idx2label[label] in [\"B\", \"I\"]\n",
        "#     ]\n",
        "\n",
        "#     processed_keyphrases = concat_tokens_by_tag(keyphrases_list)\n",
        "#     extracted_kps = tokenizer.batch_decode(\n",
        "#         processed_keyphrases,\n",
        "#         skip_special_tokens=True,\n",
        "#         clean_up_tokenization_spaces=True,\n",
        "#     )\n",
        "#     return np.unique([kp.strip() for kp in extracted_kps])\n"
      ]
    },
    {
      "attachments": {},
      "cell_type": "markdown",
      "metadata": {
        "id": "8RX7WUnfSgKv"
      },
      "source": [
        "### exploring dataset - preparation"
      ]
    },
    {
      "cell_type": "code",
      "execution_count": 140,
      "metadata": {
        "colab": {
          "base_uri": "https://localhost:8080/"
        },
        "id": "6ypMPAyXKiay",
        "outputId": "00cfb843-07e2-44d5-dd32-d9e786f5656a"
      },
      "outputs": [
        {
          "name": "stderr",
          "output_type": "stream",
          "text": [
            "Repo card metadata block was not found. Setting CardData to empty.\n",
            "WARNING:huggingface_hub.repocard:Repo card metadata block was not found. Setting CardData to empty.\n"
          ]
        }
      ],
      "source": [
        "dataset = load_dataset(\"midas/inspec\", 'raw')\n",
        "tokenized_dataset = dataset.map(preprocess_fuction, batched=True)"
      ]
    },
    {
      "cell_type": "code",
      "execution_count": 141,
      "metadata": {
        "id": "jMCussC9Q4vo"
      },
      "outputs": [],
      "source": [
        "train_data = tokenized_dataset['train'][:5]\n",
        "validation_data = tokenized_dataset['validation'][:2]\n",
        "test_data = tokenized_dataset['test'][:2]"
      ]
    },
    {
      "cell_type": "code",
      "execution_count": 142,
      "metadata": {
        "id": "alZNAKdKi8RV"
      },
      "outputs": [],
      "source": [
        "from datasets import Dataset, DatasetDict\n",
        "\n",
        "# Create Dataset objects for each split\n",
        "train_dataset = Dataset.from_dict(train_data)\n",
        "test_dataset = Dataset.from_dict(test_data)\n",
        "validation_dataset = Dataset.from_dict(validation_data)\n",
        "\n",
        "# Create a DatasetDict by combining the datasets\n",
        "dataset_dict = DatasetDict({\n",
        "    'train': train_dataset,\n",
        "    'test': test_dataset,\n",
        "    'validation': validation_dataset\n",
        "})\n",
        "\n",
        "# print(dataset_dict) #this is just a subset of tokenized_dataset\n",
        "# print(tokenized_dataset) #after tokenizing\n",
        "# print(dataset) # data before tokenizing"
      ]
    },
    {
      "attachments": {},
      "cell_type": "markdown",
      "metadata": {
        "id": "uRUwyMv5J82C"
      },
      "source": [
        "### Fine Tuning"
      ]
    },
    {
      "cell_type": "code",
      "execution_count": 143,
      "metadata": {
        "id": "8mXOZAvrKgU9"
      },
      "outputs": [],
      "source": [
        "# model_name = \"ml6team/keyphrase-extraction-kbir-openkp\"\n",
        "model_name = 'ml6team/keyphrase-extraction-distilbert-inspec'"
      ]
    },
    {
      "cell_type": "code",
      "execution_count": 144,
      "metadata": {
        "id": "IH2H2ed3kOGF"
      },
      "outputs": [],
      "source": [
        "# customized the evaluation metrics\n",
        "from datasets import load_dataset, ClassLabel\n",
        "import datasets\n",
        "from datasets.features import ClassLabel\n",
        "\n",
        "accuracy = datasets.load_metric(\"accuracy\")\n",
        "f1_metric = datasets.load_metric(\"f1\")\n",
        "\n",
        "def my_compute_metrics(eval_pred):\n",
        "    logits, labels = eval_pred\n",
        "    refs = labels.flatten()\n",
        "    predictions = np.argmax(logits, axis=-1)\n",
        "    # print(logits.shape)\n",
        "    # print(predictions.shape)\n",
        "    pred = predictions.flatten()\n",
        "    return {\n",
        "        \"accuracy\": accuracy.compute(predictions=pred, references=refs)[\"accuracy\"],\n",
        "        \"f1_micro\": f1_metric.compute(predictions=pred, references=refs, average=\"micro\")[\"f1\"],\n",
        "        \"f1_macro\": f1_metric.compute(predictions=pred, references=refs, average=\"macro\")[\"f1\"],\n",
        "    }\n"
      ]
    },
    {
      "cell_type": "code",
      "execution_count": 145,
      "metadata": {
        "colab": {
          "base_uri": "https://localhost:8080/",
          "height": 126
        },
        "id": "FhfXb7ZGKQFQ",
        "outputId": "d1ae04cc-7714-4120-cde4-1e0a870b6421"
      },
      "outputs": [
        {
          "data": {
            "text/html": [
              "\n",
              "    <div>\n",
              "      \n",
              "      <progress value='5' max='5' style='width:300px; height:20px; vertical-align: middle;'></progress>\n",
              "      [5/5 00:42, Epoch 5/5]\n",
              "    </div>\n",
              "    <table border=\"1\" class=\"dataframe\">\n",
              "  <thead>\n",
              " <tr style=\"text-align: left;\">\n",
              "      <th>Step</th>\n",
              "      <th>Training Loss</th>\n",
              "      <th>Validation Loss</th>\n",
              "    </tr>\n",
              "  </thead>\n",
              "  <tbody>\n",
              "  </tbody>\n",
              "</table><p>"
            ],
            "text/plain": [
              "<IPython.core.display.HTML object>"
            ]
          },
          "metadata": {},
          "output_type": "display_data"
        },
        {
          "data": {
            "text/plain": [
              "TrainOutput(global_step=5, training_loss=0.0012008005753159523, metrics={'train_runtime': 56.0341, 'train_samples_per_second': 0.446, 'train_steps_per_second': 0.089, 'total_flos': 3266386560000.0, 'train_loss': 0.0012008005753159523, 'epoch': 5.0})"
            ]
          },
          "execution_count": 145,
          "metadata": {},
          "output_type": "execute_result"
        }
      ],
      "source": [
        "from transformers import AutoModelForTokenClassification, Trainer, TrainingArguments, DataCollatorForTokenClassification\n",
        "import torch\n",
        "\n",
        "# TOKENIZATION\n",
        "\n",
        "'''# Load your dataset (e.g., using datasets.load_dataset())\n",
        "dataset = datasets.load_dataset('your_dataset_name')\n",
        "\n",
        "# Tokenize and preprocess the dataset\n",
        "tokenizer = AutoTokenizer.from_pretrained(model_name)\n",
        "def tokenize_function(examples):\n",
        "    return tokenizer(examples['text'], padding='max_length', truncation=True)\n",
        "\n",
        "tokenized_datasets = dataset.map(tokenize_function, batched=True)\n",
        "'''\n",
        "\n",
        "#####\n",
        "\n",
        "# Load your pretrained model\n",
        "model = AutoModelForTokenClassification.from_pretrained(model_name)\n",
        "\n",
        "# Define your training arguments\n",
        "training_args = TrainingArguments(\n",
        "    output_dir=\"/content/drive/MyDrive/thesis\",\n",
        "    overwrite_output_dir=True,\n",
        "    num_train_epochs=5,\n",
        "    per_device_train_batch_size=8,\n",
        "    save_steps=100,\n",
        "    evaluation_strategy=\"steps\",\n",
        "    eval_steps=100,\n",
        "    learning_rate = 1e-4   # missng early_stop training, possible to customize\n",
        ")\n",
        "\n",
        "# Create Trainer\n",
        "trainer = Trainer(\n",
        "    model=model,\n",
        "    args=training_args,\n",
        "    data_collator=None,  # If needed, define a data collator\n",
        "    train_dataset=dataset_dict['train'],\n",
        "    eval_dataset=dataset_dict['validation'],\n",
        "    compute_metrics = my_compute_metrics,  # Define a metric function if needed\n",
        ")\n",
        "\n",
        "# Finetuning the model\n",
        "trainer.train()\n"
      ]
    },
    {
      "cell_type": "code",
      "execution_count": 146,
      "metadata": {
        "colab": {
          "base_uri": "https://localhost:8080/",
          "height": 173
        },
        "id": "ocwV2P4GlYEC",
        "outputId": "850f7eee-7715-4a8c-adc5-08189147fe91"
      },
      "outputs": [
        {
          "data": {
            "text/html": [
              "\n",
              "    <div>\n",
              "      \n",
              "      <progress value='1' max='1' style='width:300px; height:20px; vertical-align: middle;'></progress>\n",
              "      [1/1 : < :]\n",
              "    </div>\n",
              "    "
            ],
            "text/plain": [
              "<IPython.core.display.HTML object>"
            ]
          },
          "metadata": {},
          "output_type": "display_data"
        },
        {
          "data": {
            "text/plain": [
              "{'eval_loss': 0.18946310877799988,\n",
              " 'eval_accuracy': 0.974609375,\n",
              " 'eval_f1_micro': 0.974609375,\n",
              " 'eval_f1_macro': 0.7263403364207722,\n",
              " 'eval_runtime': 1.2857,\n",
              " 'eval_samples_per_second': 1.556,\n",
              " 'eval_steps_per_second': 0.778,\n",
              " 'epoch': 5.0}"
            ]
          },
          "execution_count": 146,
          "metadata": {},
          "output_type": "execute_result"
        }
      ],
      "source": [
        "#evaluate on the val set\n",
        "trainer.evaluate()"
      ]
    },
    {
      "cell_type": "code",
      "execution_count": 147,
      "metadata": {
        "colab": {
          "base_uri": "https://localhost:8080/",
          "height": 17
        },
        "id": "oEOJ4omVUKDs",
        "outputId": "7191ce1b-6feb-4621-c4c0-d67b35ac0a5b"
      },
      "outputs": [
        {
          "data": {
            "text/html": [],
            "text/plain": [
              "<IPython.core.display.HTML object>"
            ]
          },
          "metadata": {},
          "output_type": "display_data"
        }
      ],
      "source": [
        "#predict on the test data\n",
        "prediction = trainer.predict(dataset_dict['test'])"
      ]
    },
    {
      "cell_type": "code",
      "execution_count": 148,
      "metadata": {
        "colab": {
          "base_uri": "https://localhost:8080/",
          "height": 54
        },
        "id": "Idb8dbZR5OHg",
        "outputId": "8417a1b0-eb23-40cb-fdb0-9a4d9f78f0ff"
      },
      "outputs": [
        {
          "data": {
            "application/vnd.google.colaboratory.intrinsic+json": {
              "type": "string"
            },
            "text/plain": [
              "\"\\n# Save the fine-tuned model and tokenizer\\nmodel.save_pretrained('fine_tuned_model_directory')\\ntokenizer.save_pretrained('fine_tuned_model_directory')\\n\""
            ]
          },
          "execution_count": 148,
          "metadata": {},
          "output_type": "execute_result"
        }
      ],
      "source": [
        "'''\n",
        "# Save the fine-tuned model and tokenizer\n",
        "model.save_pretrained('fine_tuned_model_directory')\n",
        "tokenizer.save_pretrained('fine_tuned_model_directory')\n",
        "'''"
      ]
    },
    {
      "cell_type": "code",
      "execution_count": 149,
      "metadata": {
        "colab": {
          "base_uri": "https://localhost:8080/"
        },
        "id": "fUJvOMD7PuWk",
        "outputId": "535f2391-2922-49fa-b301-3804e9bdf4f4"
      },
      "outputs": [
        {
          "name": "stdout",
          "output_type": "stream",
          "text": [
            "[[-5.542736 -5.177245  8.806656]]\n",
            "[2 2 1 2 2]\n",
            "[2 2 2 2 2]\n"
          ]
        }
      ],
      "source": [
        "# Get the predicted logits\n",
        "predicted_logits = prediction.predictions\n",
        "predicted_labels = np.argmax(predicted_logits, axis=-1)\n",
        "\n",
        "# Get the true labels or target values\n",
        "true_labels = prediction.label_ids\n",
        "\n",
        "#example of the first 5 tokens' ground true labels and their predicted logits\n",
        "print(predicted_logits[0][:1])\n",
        "print(predicted_labels[0][100:105])\n",
        "print(true_labels[0][100:105])"
      ]
    },
    {
      "attachments": {},
      "cell_type": "markdown",
      "metadata": {
        "id": "bOp-rfZoOAGj"
      },
      "source": [
        "### post_processing"
      ]
    },
    {
      "cell_type": "code",
      "execution_count": 150,
      "metadata": {
        "colab": {
          "base_uri": "https://localhost:8080/",
          "height": 54
        },
        "id": "QP4g5ZBoN-IQ",
        "outputId": "933ec272-3f70-4def-c9fe-28b3d3cc8825"
      },
      "outputs": [
        {
          "data": {
            "application/vnd.google.colaboratory.intrinsic+json": {
              "type": "string"
            },
            "text/plain": [
              "\"#this function does not work because of the data type of the predicted_labels.\\nexample = dataset_dict['test'][0] #everything\\nextract_keyphrases(example, predicted_labels, tokenizer, index=0) #extract keyphrases\""
            ]
          },
          "execution_count": 150,
          "metadata": {},
          "output_type": "execute_result"
        }
      ],
      "source": [
        "# # Define post_process functions\n",
        "# def concat_tokens_by_tag(keyphrases):\n",
        "#     keyphrase_tokens = []\n",
        "#     for id, label in keyphrases:\n",
        "#         if label == \"B\":\n",
        "#             keyphrase_tokens.append([id])\n",
        "#         elif label == \"I\":\n",
        "#             if len(keyphrase_tokens) > 0:\n",
        "#                 keyphrase_tokens[len(keyphrase_tokens) - 1].append(id)\n",
        "#     return keyphrase_tokens\n",
        "\n",
        "\n",
        "# def extract_keyphrases(example, predicted_labels, tokenizer, index=0):\n",
        "#     keyphrases_list = [\n",
        "#         (id, idx2label[label]) #Did try: convert idx2label[label] to a string type, do not work\n",
        "#         for id, label in zip(\n",
        "#             np.array(example[\"input_ids\"]).squeeze().tolist(), predicted_labels\n",
        "#         )\n",
        "#         if idx2label[label] in [\"B\", \"I\"]\n",
        "#     ]\n",
        "\n",
        "#     processed_keyphrases = concat_tokens_by_tag(keyphrases_list)\n",
        "#     extracted_kps = tokenizer.batch_decode(\n",
        "#         processed_keyphrases,\n",
        "#         skip_special_tokens=True,\n",
        "#         clean_up_tokenization_spaces=True,\n",
        "#     )\n",
        "#     return np.unique([kp.strip() for kp in extracted_kps])\n",
        "\n",
        "'''#this function does not work because of the data type of the predicted_labels.\n",
        "example = dataset_dict['test'][0] #everything\n",
        "extract_keyphrases(example, predicted_labels, tokenizer, index=0) #extract keyphrases'''"
      ]
    }
  ],
  "metadata": {
    "colab": {
      "provenance": [],
      "toc_visible": true
    },
    "kernelspec": {
      "display_name": "Python 3",
      "name": "python3"
    },
    "language_info": {
      "name": "python"
    },
    "widgets": {
      "application/vnd.jupyter.widget-state+json": {
        "17ef69558d734ca2a906f828f5b193b2": {
          "model_module": "@jupyter-widgets/controls",
          "model_module_version": "1.5.0",
          "model_name": "DescriptionStyleModel",
          "state": {
            "_model_module": "@jupyter-widgets/controls",
            "_model_module_version": "1.5.0",
            "_model_name": "DescriptionStyleModel",
            "_view_count": null,
            "_view_module": "@jupyter-widgets/base",
            "_view_module_version": "1.2.0",
            "_view_name": "StyleView",
            "description_width": ""
          }
        },
        "445add9e6c434140af62594131ca3d6f": {
          "model_module": "@jupyter-widgets/base",
          "model_module_version": "1.2.0",
          "model_name": "LayoutModel",
          "state": {
            "_model_module": "@jupyter-widgets/base",
            "_model_module_version": "1.2.0",
            "_model_name": "LayoutModel",
            "_view_count": null,
            "_view_module": "@jupyter-widgets/base",
            "_view_module_version": "1.2.0",
            "_view_name": "LayoutView",
            "align_content": null,
            "align_items": null,
            "align_self": null,
            "border": null,
            "bottom": null,
            "display": null,
            "flex": null,
            "flex_flow": null,
            "grid_area": null,
            "grid_auto_columns": null,
            "grid_auto_flow": null,
            "grid_auto_rows": null,
            "grid_column": null,
            "grid_gap": null,
            "grid_row": null,
            "grid_template_areas": null,
            "grid_template_columns": null,
            "grid_template_rows": null,
            "height": null,
            "justify_content": null,
            "justify_items": null,
            "left": null,
            "margin": null,
            "max_height": null,
            "max_width": null,
            "min_height": null,
            "min_width": null,
            "object_fit": null,
            "object_position": null,
            "order": null,
            "overflow": null,
            "overflow_x": null,
            "overflow_y": null,
            "padding": null,
            "right": null,
            "top": null,
            "visibility": null,
            "width": null
          }
        },
        "4c39798c2c8945159f60953cad4cbab8": {
          "model_module": "@jupyter-widgets/base",
          "model_module_version": "1.2.0",
          "model_name": "LayoutModel",
          "state": {
            "_model_module": "@jupyter-widgets/base",
            "_model_module_version": "1.2.0",
            "_model_name": "LayoutModel",
            "_view_count": null,
            "_view_module": "@jupyter-widgets/base",
            "_view_module_version": "1.2.0",
            "_view_name": "LayoutView",
            "align_content": null,
            "align_items": null,
            "align_self": null,
            "border": null,
            "bottom": null,
            "display": null,
            "flex": null,
            "flex_flow": null,
            "grid_area": null,
            "grid_auto_columns": null,
            "grid_auto_flow": null,
            "grid_auto_rows": null,
            "grid_column": null,
            "grid_gap": null,
            "grid_row": null,
            "grid_template_areas": null,
            "grid_template_columns": null,
            "grid_template_rows": null,
            "height": null,
            "justify_content": null,
            "justify_items": null,
            "left": null,
            "margin": null,
            "max_height": null,
            "max_width": null,
            "min_height": null,
            "min_width": null,
            "object_fit": null,
            "object_position": null,
            "order": null,
            "overflow": null,
            "overflow_x": null,
            "overflow_y": null,
            "padding": null,
            "right": null,
            "top": null,
            "visibility": null,
            "width": null
          }
        },
        "510b3e8350b845c8a4ff1bec89baea9c": {
          "model_module": "@jupyter-widgets/base",
          "model_module_version": "1.2.0",
          "model_name": "LayoutModel",
          "state": {
            "_model_module": "@jupyter-widgets/base",
            "_model_module_version": "1.2.0",
            "_model_name": "LayoutModel",
            "_view_count": null,
            "_view_module": "@jupyter-widgets/base",
            "_view_module_version": "1.2.0",
            "_view_name": "LayoutView",
            "align_content": null,
            "align_items": null,
            "align_self": null,
            "border": null,
            "bottom": null,
            "display": null,
            "flex": null,
            "flex_flow": null,
            "grid_area": null,
            "grid_auto_columns": null,
            "grid_auto_flow": null,
            "grid_auto_rows": null,
            "grid_column": null,
            "grid_gap": null,
            "grid_row": null,
            "grid_template_areas": null,
            "grid_template_columns": null,
            "grid_template_rows": null,
            "height": null,
            "justify_content": null,
            "justify_items": null,
            "left": null,
            "margin": null,
            "max_height": null,
            "max_width": null,
            "min_height": null,
            "min_width": null,
            "object_fit": null,
            "object_position": null,
            "order": null,
            "overflow": null,
            "overflow_x": null,
            "overflow_y": null,
            "padding": null,
            "right": null,
            "top": null,
            "visibility": null,
            "width": null
          }
        },
        "51444c9b7aa24f9abbccff3cf84329db": {
          "model_module": "@jupyter-widgets/controls",
          "model_module_version": "1.5.0",
          "model_name": "FloatProgressModel",
          "state": {
            "_dom_classes": [],
            "_model_module": "@jupyter-widgets/controls",
            "_model_module_version": "1.5.0",
            "_model_name": "FloatProgressModel",
            "_view_count": null,
            "_view_module": "@jupyter-widgets/controls",
            "_view_module_version": "1.5.0",
            "_view_name": "ProgressView",
            "bar_style": "success",
            "description": "",
            "description_tooltip": null,
            "layout": "IPY_MODEL_680e0d2ceb7e40b7997f4e7953f04dc2",
            "max": 500,
            "min": 0,
            "orientation": "horizontal",
            "style": "IPY_MODEL_bdb03e096b5b413b82444c57376b0b20",
            "value": 500
          }
        },
        "680e0d2ceb7e40b7997f4e7953f04dc2": {
          "model_module": "@jupyter-widgets/base",
          "model_module_version": "1.2.0",
          "model_name": "LayoutModel",
          "state": {
            "_model_module": "@jupyter-widgets/base",
            "_model_module_version": "1.2.0",
            "_model_name": "LayoutModel",
            "_view_count": null,
            "_view_module": "@jupyter-widgets/base",
            "_view_module_version": "1.2.0",
            "_view_name": "LayoutView",
            "align_content": null,
            "align_items": null,
            "align_self": null,
            "border": null,
            "bottom": null,
            "display": null,
            "flex": null,
            "flex_flow": null,
            "grid_area": null,
            "grid_auto_columns": null,
            "grid_auto_flow": null,
            "grid_auto_rows": null,
            "grid_column": null,
            "grid_gap": null,
            "grid_row": null,
            "grid_template_areas": null,
            "grid_template_columns": null,
            "grid_template_rows": null,
            "height": null,
            "justify_content": null,
            "justify_items": null,
            "left": null,
            "margin": null,
            "max_height": null,
            "max_width": null,
            "min_height": null,
            "min_width": null,
            "object_fit": null,
            "object_position": null,
            "order": null,
            "overflow": null,
            "overflow_x": null,
            "overflow_y": null,
            "padding": null,
            "right": null,
            "top": null,
            "visibility": null,
            "width": null
          }
        },
        "8f6bcd329d7a40079333b99a1ab88793": {
          "model_module": "@jupyter-widgets/controls",
          "model_module_version": "1.5.0",
          "model_name": "HBoxModel",
          "state": {
            "_dom_classes": [],
            "_model_module": "@jupyter-widgets/controls",
            "_model_module_version": "1.5.0",
            "_model_name": "HBoxModel",
            "_view_count": null,
            "_view_module": "@jupyter-widgets/controls",
            "_view_module_version": "1.5.0",
            "_view_name": "HBoxView",
            "box_style": "",
            "children": [
              "IPY_MODEL_adae882427ff4e73baf78ae6537f226b",
              "IPY_MODEL_51444c9b7aa24f9abbccff3cf84329db",
              "IPY_MODEL_9dabb318d90147e5b3532e8611700c3f"
            ],
            "layout": "IPY_MODEL_510b3e8350b845c8a4ff1bec89baea9c"
          }
        },
        "9dabb318d90147e5b3532e8611700c3f": {
          "model_module": "@jupyter-widgets/controls",
          "model_module_version": "1.5.0",
          "model_name": "HTMLModel",
          "state": {
            "_dom_classes": [],
            "_model_module": "@jupyter-widgets/controls",
            "_model_module_version": "1.5.0",
            "_model_name": "HTMLModel",
            "_view_count": null,
            "_view_module": "@jupyter-widgets/controls",
            "_view_module_version": "1.5.0",
            "_view_name": "HTMLView",
            "description": "",
            "description_tooltip": null,
            "layout": "IPY_MODEL_4c39798c2c8945159f60953cad4cbab8",
            "placeholder": "​",
            "style": "IPY_MODEL_a2a54b71548844bdad2b5da29e42f1c1",
            "value": " 500/500 [00:00&lt;00:00, 812.02 examples/s]"
          }
        },
        "a2a54b71548844bdad2b5da29e42f1c1": {
          "model_module": "@jupyter-widgets/controls",
          "model_module_version": "1.5.0",
          "model_name": "DescriptionStyleModel",
          "state": {
            "_model_module": "@jupyter-widgets/controls",
            "_model_module_version": "1.5.0",
            "_model_name": "DescriptionStyleModel",
            "_view_count": null,
            "_view_module": "@jupyter-widgets/base",
            "_view_module_version": "1.2.0",
            "_view_name": "StyleView",
            "description_width": ""
          }
        },
        "adae882427ff4e73baf78ae6537f226b": {
          "model_module": "@jupyter-widgets/controls",
          "model_module_version": "1.5.0",
          "model_name": "HTMLModel",
          "state": {
            "_dom_classes": [],
            "_model_module": "@jupyter-widgets/controls",
            "_model_module_version": "1.5.0",
            "_model_name": "HTMLModel",
            "_view_count": null,
            "_view_module": "@jupyter-widgets/controls",
            "_view_module_version": "1.5.0",
            "_view_name": "HTMLView",
            "description": "",
            "description_tooltip": null,
            "layout": "IPY_MODEL_445add9e6c434140af62594131ca3d6f",
            "placeholder": "​",
            "style": "IPY_MODEL_17ef69558d734ca2a906f828f5b193b2",
            "value": "Map: 100%"
          }
        },
        "bdb03e096b5b413b82444c57376b0b20": {
          "model_module": "@jupyter-widgets/controls",
          "model_module_version": "1.5.0",
          "model_name": "ProgressStyleModel",
          "state": {
            "_model_module": "@jupyter-widgets/controls",
            "_model_module_version": "1.5.0",
            "_model_name": "ProgressStyleModel",
            "_view_count": null,
            "_view_module": "@jupyter-widgets/base",
            "_view_module_version": "1.2.0",
            "_view_name": "StyleView",
            "bar_color": null,
            "description_width": ""
          }
        }
      }
    }
  },
  "nbformat": 4,
  "nbformat_minor": 0
}
