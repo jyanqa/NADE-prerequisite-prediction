{
  "cells": [
    {
      "cell_type": "code",
      "source": [
        "!pip install transformers --quiet\n",
        "!pip install datasets --quiet\n",
        "!pip install torch --quiet\n",
        "#\n",
        "!pip install openprompt\n",
        "!nvidia-smi\n",
        "!pip install datasets"
      ],
      "metadata": {
        "colab": {
          "base_uri": "https://localhost:8080/"
        },
        "id": "IDtLQaf-CxFL",
        "outputId": "0b82fb88-b657-43c0-ee0c-8c1ff1e7c470"
      },
      "execution_count": 43,
      "outputs": [
        {
          "output_type": "stream",
          "name": "stdout",
          "text": [
            "Requirement already satisfied: openprompt in /usr/local/lib/python3.10/dist-packages (1.0.1)\n",
            "Requirement already satisfied: transformers>=4.10.0 in /usr/local/lib/python3.10/dist-packages (from openprompt) (4.35.2)\n",
            "Requirement already satisfied: sentencepiece==0.1.96 in /usr/local/lib/python3.10/dist-packages (from openprompt) (0.1.96)\n",
            "Requirement already satisfied: tqdm>=4.62.2 in /usr/local/lib/python3.10/dist-packages (from openprompt) (4.66.1)\n",
            "Requirement already satisfied: tensorboardX in /usr/local/lib/python3.10/dist-packages (from openprompt) (2.6.2.2)\n",
            "Requirement already satisfied: nltk in /usr/local/lib/python3.10/dist-packages (from openprompt) (3.8.1)\n",
            "Requirement already satisfied: yacs in /usr/local/lib/python3.10/dist-packages (from openprompt) (0.1.8)\n",
            "Requirement already satisfied: dill in /usr/local/lib/python3.10/dist-packages (from openprompt) (0.3.8)\n",
            "Requirement already satisfied: datasets in /usr/local/lib/python3.10/dist-packages (from openprompt) (2.17.0)\n",
            "Requirement already satisfied: rouge==1.0.0 in /usr/local/lib/python3.10/dist-packages (from openprompt) (1.0.0)\n",
            "Requirement already satisfied: pyarrow in /usr/local/lib/python3.10/dist-packages (from openprompt) (15.0.0)\n",
            "Requirement already satisfied: scipy in /usr/local/lib/python3.10/dist-packages (from openprompt) (1.11.4)\n",
            "Requirement already satisfied: six in /usr/local/lib/python3.10/dist-packages (from rouge==1.0.0->openprompt) (1.16.0)\n",
            "Requirement already satisfied: filelock in /usr/local/lib/python3.10/dist-packages (from transformers>=4.10.0->openprompt) (3.13.1)\n",
            "Requirement already satisfied: huggingface-hub<1.0,>=0.16.4 in /usr/local/lib/python3.10/dist-packages (from transformers>=4.10.0->openprompt) (0.20.3)\n",
            "Requirement already satisfied: numpy>=1.17 in /usr/local/lib/python3.10/dist-packages (from transformers>=4.10.0->openprompt) (1.25.2)\n",
            "Requirement already satisfied: packaging>=20.0 in /usr/local/lib/python3.10/dist-packages (from transformers>=4.10.0->openprompt) (23.2)\n",
            "Requirement already satisfied: pyyaml>=5.1 in /usr/local/lib/python3.10/dist-packages (from transformers>=4.10.0->openprompt) (6.0.1)\n",
            "Requirement already satisfied: regex!=2019.12.17 in /usr/local/lib/python3.10/dist-packages (from transformers>=4.10.0->openprompt) (2023.12.25)\n",
            "Requirement already satisfied: requests in /usr/local/lib/python3.10/dist-packages (from transformers>=4.10.0->openprompt) (2.31.0)\n",
            "Requirement already satisfied: tokenizers<0.19,>=0.14 in /usr/local/lib/python3.10/dist-packages (from transformers>=4.10.0->openprompt) (0.15.1)\n",
            "Requirement already satisfied: safetensors>=0.3.1 in /usr/local/lib/python3.10/dist-packages (from transformers>=4.10.0->openprompt) (0.4.2)\n",
            "Requirement already satisfied: pyarrow-hotfix in /usr/local/lib/python3.10/dist-packages (from datasets->openprompt) (0.6)\n",
            "Requirement already satisfied: pandas in /usr/local/lib/python3.10/dist-packages (from datasets->openprompt) (1.5.3)\n",
            "Requirement already satisfied: xxhash in /usr/local/lib/python3.10/dist-packages (from datasets->openprompt) (3.4.1)\n",
            "Requirement already satisfied: multiprocess in /usr/local/lib/python3.10/dist-packages (from datasets->openprompt) (0.70.16)\n",
            "Requirement already satisfied: fsspec[http]<=2023.10.0,>=2023.1.0 in /usr/local/lib/python3.10/dist-packages (from datasets->openprompt) (2023.6.0)\n",
            "Requirement already satisfied: aiohttp in /usr/local/lib/python3.10/dist-packages (from datasets->openprompt) (3.9.3)\n",
            "Requirement already satisfied: click in /usr/local/lib/python3.10/dist-packages (from nltk->openprompt) (8.1.7)\n",
            "Requirement already satisfied: joblib in /usr/local/lib/python3.10/dist-packages (from nltk->openprompt) (1.3.2)\n",
            "Requirement already satisfied: protobuf>=3.20 in /usr/local/lib/python3.10/dist-packages (from tensorboardX->openprompt) (3.20.3)\n",
            "Requirement already satisfied: aiosignal>=1.1.2 in /usr/local/lib/python3.10/dist-packages (from aiohttp->datasets->openprompt) (1.3.1)\n",
            "Requirement already satisfied: attrs>=17.3.0 in /usr/local/lib/python3.10/dist-packages (from aiohttp->datasets->openprompt) (23.2.0)\n",
            "Requirement already satisfied: frozenlist>=1.1.1 in /usr/local/lib/python3.10/dist-packages (from aiohttp->datasets->openprompt) (1.4.1)\n",
            "Requirement already satisfied: multidict<7.0,>=4.5 in /usr/local/lib/python3.10/dist-packages (from aiohttp->datasets->openprompt) (6.0.5)\n",
            "Requirement already satisfied: yarl<2.0,>=1.0 in /usr/local/lib/python3.10/dist-packages (from aiohttp->datasets->openprompt) (1.9.4)\n",
            "Requirement already satisfied: async-timeout<5.0,>=4.0 in /usr/local/lib/python3.10/dist-packages (from aiohttp->datasets->openprompt) (4.0.3)\n",
            "Requirement already satisfied: typing-extensions>=3.7.4.3 in /usr/local/lib/python3.10/dist-packages (from huggingface-hub<1.0,>=0.16.4->transformers>=4.10.0->openprompt) (4.9.0)\n",
            "Requirement already satisfied: charset-normalizer<4,>=2 in /usr/local/lib/python3.10/dist-packages (from requests->transformers>=4.10.0->openprompt) (3.3.2)\n",
            "Requirement already satisfied: idna<4,>=2.5 in /usr/local/lib/python3.10/dist-packages (from requests->transformers>=4.10.0->openprompt) (3.6)\n",
            "Requirement already satisfied: urllib3<3,>=1.21.1 in /usr/local/lib/python3.10/dist-packages (from requests->transformers>=4.10.0->openprompt) (2.0.7)\n",
            "Requirement already satisfied: certifi>=2017.4.17 in /usr/local/lib/python3.10/dist-packages (from requests->transformers>=4.10.0->openprompt) (2024.2.2)\n",
            "Requirement already satisfied: python-dateutil>=2.8.1 in /usr/local/lib/python3.10/dist-packages (from pandas->datasets->openprompt) (2.8.2)\n",
            "Requirement already satisfied: pytz>=2020.1 in /usr/local/lib/python3.10/dist-packages (from pandas->datasets->openprompt) (2023.4)\n",
            "Thu Feb 15 03:35:27 2024       \n",
            "+---------------------------------------------------------------------------------------+\n",
            "| NVIDIA-SMI 535.104.05             Driver Version: 535.104.05   CUDA Version: 12.2     |\n",
            "|-----------------------------------------+----------------------+----------------------+\n",
            "| GPU  Name                 Persistence-M | Bus-Id        Disp.A | Volatile Uncorr. ECC |\n",
            "| Fan  Temp   Perf          Pwr:Usage/Cap |         Memory-Usage | GPU-Util  Compute M. |\n",
            "|                                         |                      |               MIG M. |\n",
            "|=========================================+======================+======================|\n",
            "|   0  Tesla T4                       Off | 00000000:00:04.0 Off |                    0 |\n",
            "| N/A   68C    P0              30W /  70W |  10759MiB / 15360MiB |      0%      Default |\n",
            "|                                         |                      |                  N/A |\n",
            "+-----------------------------------------+----------------------+----------------------+\n",
            "                                                                                         \n",
            "+---------------------------------------------------------------------------------------+\n",
            "| Processes:                                                                            |\n",
            "|  GPU   GI   CI        PID   Type   Process name                            GPU Memory |\n",
            "|        ID   ID                                                             Usage      |\n",
            "|=======================================================================================|\n",
            "+---------------------------------------------------------------------------------------+\n",
            "Requirement already satisfied: datasets in /usr/local/lib/python3.10/dist-packages (2.17.0)\n",
            "Requirement already satisfied: filelock in /usr/local/lib/python3.10/dist-packages (from datasets) (3.13.1)\n",
            "Requirement already satisfied: numpy>=1.17 in /usr/local/lib/python3.10/dist-packages (from datasets) (1.25.2)\n",
            "Requirement already satisfied: pyarrow>=12.0.0 in /usr/local/lib/python3.10/dist-packages (from datasets) (15.0.0)\n",
            "Requirement already satisfied: pyarrow-hotfix in /usr/local/lib/python3.10/dist-packages (from datasets) (0.6)\n",
            "Requirement already satisfied: dill<0.3.9,>=0.3.0 in /usr/local/lib/python3.10/dist-packages (from datasets) (0.3.8)\n",
            "Requirement already satisfied: pandas in /usr/local/lib/python3.10/dist-packages (from datasets) (1.5.3)\n",
            "Requirement already satisfied: requests>=2.19.0 in /usr/local/lib/python3.10/dist-packages (from datasets) (2.31.0)\n",
            "Requirement already satisfied: tqdm>=4.62.1 in /usr/local/lib/python3.10/dist-packages (from datasets) (4.66.1)\n",
            "Requirement already satisfied: xxhash in /usr/local/lib/python3.10/dist-packages (from datasets) (3.4.1)\n",
            "Requirement already satisfied: multiprocess in /usr/local/lib/python3.10/dist-packages (from datasets) (0.70.16)\n",
            "Requirement already satisfied: fsspec[http]<=2023.10.0,>=2023.1.0 in /usr/local/lib/python3.10/dist-packages (from datasets) (2023.6.0)\n",
            "Requirement already satisfied: aiohttp in /usr/local/lib/python3.10/dist-packages (from datasets) (3.9.3)\n",
            "Requirement already satisfied: huggingface-hub>=0.19.4 in /usr/local/lib/python3.10/dist-packages (from datasets) (0.20.3)\n",
            "Requirement already satisfied: packaging in /usr/local/lib/python3.10/dist-packages (from datasets) (23.2)\n",
            "Requirement already satisfied: pyyaml>=5.1 in /usr/local/lib/python3.10/dist-packages (from datasets) (6.0.1)\n",
            "Requirement already satisfied: aiosignal>=1.1.2 in /usr/local/lib/python3.10/dist-packages (from aiohttp->datasets) (1.3.1)\n",
            "Requirement already satisfied: attrs>=17.3.0 in /usr/local/lib/python3.10/dist-packages (from aiohttp->datasets) (23.2.0)\n",
            "Requirement already satisfied: frozenlist>=1.1.1 in /usr/local/lib/python3.10/dist-packages (from aiohttp->datasets) (1.4.1)\n",
            "Requirement already satisfied: multidict<7.0,>=4.5 in /usr/local/lib/python3.10/dist-packages (from aiohttp->datasets) (6.0.5)\n",
            "Requirement already satisfied: yarl<2.0,>=1.0 in /usr/local/lib/python3.10/dist-packages (from aiohttp->datasets) (1.9.4)\n",
            "Requirement already satisfied: async-timeout<5.0,>=4.0 in /usr/local/lib/python3.10/dist-packages (from aiohttp->datasets) (4.0.3)\n",
            "Requirement already satisfied: typing-extensions>=3.7.4.3 in /usr/local/lib/python3.10/dist-packages (from huggingface-hub>=0.19.4->datasets) (4.9.0)\n",
            "Requirement already satisfied: charset-normalizer<4,>=2 in /usr/local/lib/python3.10/dist-packages (from requests>=2.19.0->datasets) (3.3.2)\n",
            "Requirement already satisfied: idna<4,>=2.5 in /usr/local/lib/python3.10/dist-packages (from requests>=2.19.0->datasets) (3.6)\n",
            "Requirement already satisfied: urllib3<3,>=1.21.1 in /usr/local/lib/python3.10/dist-packages (from requests>=2.19.0->datasets) (2.0.7)\n",
            "Requirement already satisfied: certifi>=2017.4.17 in /usr/local/lib/python3.10/dist-packages (from requests>=2.19.0->datasets) (2024.2.2)\n",
            "Requirement already satisfied: python-dateutil>=2.8.1 in /usr/local/lib/python3.10/dist-packages (from pandas->datasets) (2.8.2)\n",
            "Requirement already satisfied: pytz>=2020.1 in /usr/local/lib/python3.10/dist-packages (from pandas->datasets) (2023.4)\n",
            "Requirement already satisfied: six>=1.5 in /usr/local/lib/python3.10/dist-packages (from python-dateutil>=2.8.1->pandas->datasets) (1.16.0)\n"
          ]
        }
      ]
    },
    {
      "cell_type": "code",
      "source": [
        "from datasets import load_dataset\n",
        "from transformers import AutoTokenizer, AutoModelForTokenClassification\n",
        "from sklearn.metrics import classification_report\n",
        "import numpy as np\n",
        "import pandas as pd\n",
        "import torch\n",
        "from transformers import GPTJConfig, GPTJModel, GPTJForCausalLM, GPT2Tokenizer, LlamaConfig, LlamaForCausalLM, LlamaTokenizer"
      ],
      "metadata": {
        "id": "QnK2l0wGCy4b"
      },
      "execution_count": 44,
      "outputs": []
    },
    {
      "cell_type": "code",
      "source": [
        "from datasets import load_dataset\n",
        "from openprompt.data_utils import InputExample\n",
        "from transformers import  AdamW, get_linear_schedule_with_warmup\n",
        "from openprompt.prompts import MixedTemplate\n",
        "from openprompt import PromptDataLoader\n",
        "from openprompt import PromptForClassification\n",
        "from openprompt.prompts import ManualVerbalizer\n",
        "import torch\n",
        "from pprint import pprint\n",
        "from openprompt.plms import load_plm"
      ],
      "metadata": {
        "id": "1RB5Lw_QZms_"
      },
      "execution_count": 45,
      "outputs": []
    },
    {
      "cell_type": "code",
      "source": [
        "#check the avaialbility of cuda\n",
        "import torch\n",
        "torch.cuda.is_available()"
      ],
      "metadata": {
        "colab": {
          "base_uri": "https://localhost:8080/"
        },
        "id": "fQ2Q8XzwSr8_",
        "outputId": "54c2d25f-17cc-4cf7-f5e0-78c49a2d782e"
      },
      "execution_count": 46,
      "outputs": [
        {
          "output_type": "execute_result",
          "data": {
            "text/plain": [
              "True"
            ]
          },
          "metadata": {},
          "execution_count": 46
        }
      ]
    },
    {
      "cell_type": "markdown",
      "source": [
        "# 1. Data processing"
      ],
      "metadata": {
        "id": "UK8QrSfkPma2"
      }
    },
    {
      "cell_type": "markdown",
      "source": [
        "## a. Mounting, aggregating"
      ],
      "metadata": {
        "id": "azIu2DmnGmJ7"
      }
    },
    {
      "cell_type": "markdown",
      "source": [
        "- There are 1008 preqs_pairs, pairs of concepts with prerequisite labels"
      ],
      "metadata": {
        "id": "ZS645j972Lpx"
      }
    },
    {
      "cell_type": "code",
      "source": [
        "from google.colab import drive\n",
        "drive.mount('/content/drive')\n",
        "!ls '/content/drive/MyDrive/thesis/'\n",
        "\n",
        "import json, csv\n",
        "from datasets import Dataset, DatasetDict\n",
        "\n",
        "dev = pd.read_csv('/content/drive/MyDrive/thesis/data/data-base/data_dev.csv')\n",
        "test = pd.read_csv('/content/drive/MyDrive/thesis/data/data-base/data_test.csv')\n",
        "train = pd.read_csv('/content/drive/MyDrive/thesis/data/data-base/data_train.csv')\n"
      ],
      "metadata": {
        "id": "2KqBSPLJC2aO",
        "colab": {
          "base_uri": "https://localhost:8080/"
        },
        "outputId": "04e32ee9-c6de-4966-9a10-f5ada5b24bc7"
      },
      "execution_count": 47,
      "outputs": [
        {
          "output_type": "stream",
          "name": "stdout",
          "text": [
            "Drive already mounted at /content/drive; to attempt to forcibly remount, call drive.mount(\"/content/drive\", force_remount=True).\n",
            " code  'Copy of Getting Started with ETH GPU Euler clusters.gdoc'   data   _lab_presentation   note\n"
          ]
        }
      ]
    },
    {
      "cell_type": "markdown",
      "source": [
        "### Pairs to dict\n"
      ],
      "metadata": {
        "id": "SrI2QHG6MLGW"
      }
    },
    {
      "cell_type": "code",
      "source": [
        "# df to dict\n",
        "def df_to_dict(df):\n",
        "    data_dicts = []\n",
        "    for idx, row in df.iterrows():  # Use iterrows for DataFrame iteration\n",
        "        concept1, concept2, label = row['concept1'], row['concept2'], row['label'] # Access columns correctly\n",
        "        data_dicts.append({\n",
        "            'concept1': concept1,\n",
        "            'concept2': concept2,\n",
        "            'idx': idx,\n",
        "            'label': label\n",
        "        })\n",
        "    return data_dicts\n",
        "\n",
        "dev_dict = df_to_dict(dev)\n",
        "test_dict = df_to_dict(test)\n",
        "train_dict = df_to_dict(train)"
      ],
      "metadata": {
        "id": "vZM6Uy2spJfm"
      },
      "execution_count": 48,
      "outputs": []
    },
    {
      "cell_type": "markdown",
      "source": [
        "# 2. Training **"
      ],
      "metadata": {
        "id": "kiCSKe-wIFbW"
      }
    },
    {
      "cell_type": "code",
      "source": [
        "\n",
        "data_dicts_split = {\n",
        "    'train': train_dict,\n",
        "    'validation': dev_dict,\n",
        "    'test': test_dict\n",
        "}\n"
      ],
      "metadata": {
        "id": "d13ZQSjaDDva"
      },
      "execution_count": 49,
      "outputs": []
    },
    {
      "cell_type": "code",
      "execution_count": 50,
      "metadata": {
        "id": "iqCj2bdlP35e",
        "colab": {
          "base_uri": "https://localhost:8080/"
        },
        "outputId": "e75c4b3d-d374-486c-9bac-c4601a16409f"
      },
      "outputs": [
        {
          "output_type": "stream",
          "name": "stdout",
          "text": [
            "{\n",
            "  \"guid\": 0,\n",
            "  \"label\": 0,\n",
            "  \"meta\": {},\n",
            "  \"text_a\": \"Concurrency (computer science)\",\n",
            "  \"text_b\": \"Integral\",\n",
            "  \"tgt_text\": null\n",
            "}\n",
            "\n"
          ]
        }
      ],
      "source": [
        "# data_dicts_split to dataset (read-to-use one)\n",
        "dataset = {}\n",
        "for split in ['train', 'validation', 'test']:\n",
        "    dataset[split] = []\n",
        "    for data in data_dicts_split[split]:\n",
        "        input_example = InputExample(text_a = data['concept1'], text_b = data['concept2'], label=int(data['label']), guid=int(data['idx']))\n",
        "        dataset[split].append(input_example)\n",
        "print(dataset['train'][0])"
      ]
    },
    {
      "cell_type": "markdown",
      "source": [
        "## Defining promtp model"
      ],
      "metadata": {
        "id": "niiXnrfwSSbY"
      }
    },
    {
      "cell_type": "code",
      "source": [
        "# load plm and tokenizer, and initialize template\n",
        "plm, tokenizer, model_config, WrapperClass = load_plm(\"t5\", \"t5-base\")\n",
        "# plm, tokenizer, model_config, WrapperClass = load_plm(\"gpt2\", \"openai-community/gpt2\")\n",
        "\n",
        "\n",
        "mytemplate = MixedTemplate(model=plm, tokenizer=tokenizer, text='{\"soft\":\"Is\"} {\"placeholder\":\"text_a\"} {\"soft\":\"a prerequisite of\"}{\"placeholder\":\"text_b\"}?{\"mask\"}.')\n",
        "wrapped_example = mytemplate.wrap_one_example(dataset['train'][0])\n",
        "pprint(wrapped_example)\n",
        "print(dataset['train'][0])"
      ],
      "metadata": {
        "id": "X4v4ZbLLL-SQ",
        "colab": {
          "base_uri": "https://localhost:8080/"
        },
        "outputId": "2532bbdd-46c4-474a-d820-e0b1773ac55e"
      },
      "execution_count": 51,
      "outputs": [
        {
          "output_type": "stream",
          "name": "stderr",
          "text": [
            "/usr/local/lib/python3.10/dist-packages/transformers/models/t5/tokenization_t5.py:240: FutureWarning: This tokenizer was incorrectly instantiated with a model max length of 512 which will be corrected in Transformers v5.\n",
            "For now, this behavior is kept to avoid breaking backwards compatibility when padding/encoding with `truncation is True`.\n",
            "- Be aware that you SHOULD NOT rely on t5-base automatically truncating your input to 512 when padding/encoding.\n",
            "- If you want to encode/pad to sequences longer than 512 you can either instantiate this tokenizer with `model_max_length` or pass `max_length` when encoding/padding.\n",
            "- To avoid this warning, please instantiate this tokenizer with `model_max_length` set to your preferred value.\n",
            "  warnings.warn(\n",
            "Special tokens have been added in the vocabulary, make sure the associated word embeddings are fine-tuned or trained.\n"
          ]
        },
        {
          "output_type": "stream",
          "name": "stdout",
          "text": [
            "[[{'loss_ids': 0, 'shortenable_ids': 0, 'soft_token_ids': 1, 'text': '▁I'},\n",
            "  {'loss_ids': 0, 'shortenable_ids': 0, 'soft_token_ids': 2, 'text': 's'},\n",
            "  {'loss_ids': 0,\n",
            "   'shortenable_ids': 1,\n",
            "   'soft_token_ids': 0,\n",
            "   'text': ' Concurrency (computer science)'},\n",
            "  {'loss_ids': 0, 'shortenable_ids': 0, 'soft_token_ids': 3, 'text': '▁'},\n",
            "  {'loss_ids': 0, 'shortenable_ids': 0, 'soft_token_ids': 4, 'text': 'a'},\n",
            "  {'loss_ids': 0,\n",
            "   'shortenable_ids': 0,\n",
            "   'soft_token_ids': 5,\n",
            "   'text': '▁prerequisite'},\n",
            "  {'loss_ids': 0, 'shortenable_ids': 0, 'soft_token_ids': 6, 'text': '▁of'},\n",
            "  {'loss_ids': 0,\n",
            "   'shortenable_ids': 1,\n",
            "   'soft_token_ids': 0,\n",
            "   'text': 'Integral'},\n",
            "  {'loss_ids': 0, 'shortenable_ids': 0, 'soft_token_ids': 0, 'text': '?'},\n",
            "  {'loss_ids': 1, 'shortenable_ids': 0, 'soft_token_ids': 0, 'text': '<mask>'},\n",
            "  {'loss_ids': 0, 'shortenable_ids': 0, 'soft_token_ids': 0, 'text': '.'}],\n",
            " {'guid': 0, 'label': 0}]\n",
            "{\n",
            "  \"guid\": 0,\n",
            "  \"label\": 0,\n",
            "  \"meta\": {},\n",
            "  \"text_a\": \"Concurrency (computer science)\",\n",
            "  \"text_b\": \"Integral\",\n",
            "  \"tgt_text\": null\n",
            "}\n",
            "\n"
          ]
        }
      ]
    },
    {
      "cell_type": "code",
      "source": [
        "#params\n",
        "wrapped_t5tokenizer=WrapperClass(max_seq_length=128,decoder_max_length=3,tokenizer=tokenizer,truncate_method='head')\n",
        "train_dataloader = PromptDataLoader(dataset=dataset[\"train\"], template=mytemplate, tokenizer=tokenizer,\n",
        "    tokenizer_wrapper_class=WrapperClass, max_seq_length=256, decoder_max_length=3,\n",
        "    batch_size=8,shuffle=True, teacher_forcing=False, predict_eos_token=False,\n",
        "    truncate_method=\"head\")\n",
        "validation_dataloader = PromptDataLoader(dataset=dataset[\"validation\"], template=mytemplate, tokenizer=tokenizer,\n",
        "    tokenizer_wrapper_class=WrapperClass, max_seq_length=256, decoder_max_length=3,\n",
        "    batch_size=8,shuffle=False, teacher_forcing=False, predict_eos_token=False,\n",
        "    truncate_method=\"head\")"
      ],
      "metadata": {
        "id": "zLH5jDJ8MnOM",
        "colab": {
          "base_uri": "https://localhost:8080/"
        },
        "outputId": "59f356b1-b672-4eaa-a8ef-0529282610a5"
      },
      "execution_count": 52,
      "outputs": [
        {
          "output_type": "stream",
          "name": "stderr",
          "text": [
            "tokenizing: 2118it [00:01, 1504.10it/s]\n",
            "tokenizing: 202it [00:00, 1569.43it/s]\n"
          ]
        }
      ]
    },
    {
      "cell_type": "code",
      "source": [
        "classes = [\n",
        "     1,\n",
        "     0,\n",
        "]\n",
        "myverbalizer = ManualVerbalizer(\n",
        "    classes=classes,\n",
        "    label_words={\n",
        "        1: [\"yes\", \"correct\", \"true\", \"right\", \"correct\", \"true\", \"right\"],\n",
        "        0: [\"no\", \"incorrect\", \"false\", \"wrong\", \"incorrect\", \"false\", \"wrong\"],\n",
        "    },\n",
        "    tokenizer=tokenizer,\n",
        ")\n",
        "print(myverbalizer.label_words_ids)\n",
        "logits = torch.randn(2,len(tokenizer)) # creating a pseudo output from the plm\n",
        "print('Vocab length:',len(tokenizer))\n",
        "print('For each kind of possibility:')\n",
        "myverbalizer.process_logits(logits)"
      ],
      "metadata": {
        "id": "F76sv32DMqic",
        "colab": {
          "base_uri": "https://localhost:8080/"
        },
        "outputId": "0bc4562d-b85a-48e7-b1d8-3b0322d1b228"
      },
      "execution_count": 53,
      "outputs": [
        {
          "output_type": "stream",
          "name": "stdout",
          "text": [
            "Parameter containing:\n",
            "tensor([[[ 4273],\n",
            "         [ 2024],\n",
            "         [ 1176],\n",
            "         [  269],\n",
            "         [ 2024],\n",
            "         [ 1176],\n",
            "         [  269]],\n",
            "\n",
            "        [[  150],\n",
            "         [12153],\n",
            "         [ 6136],\n",
            "         [ 1786],\n",
            "         [12153],\n",
            "         [ 6136],\n",
            "         [ 1786]]])\n",
            "Vocab length: 32100\n",
            "For each kind of possibility:\n"
          ]
        },
        {
          "output_type": "execute_result",
          "data": {
            "text/plain": [
              "tensor([[-3.2444, -2.5810],\n",
              "        [-3.2151, -2.8488]])"
            ]
          },
          "metadata": {},
          "execution_count": 53
        }
      ]
    },
    {
      "cell_type": "code",
      "source": [
        "use_cuda = True\n",
        "prompt_model = PromptForClassification(plm=plm,template=mytemplate, verbalizer=myverbalizer, freeze_plm=False)\n",
        "if use_cuda:\n",
        "    prompt_model = prompt_model.cuda()\n",
        "#---\n",
        "\n",
        "loss_func=torch.nn.CrossEntropyLoss()\n",
        "no_decay=['bias', 'LayerNorm.weight']\n",
        "# it's always good practice to set no decay to biase and LayerNorm parameters\n",
        "optimizer_grouped_parameters1 = [\n",
        "    {'params': [p for n, p in prompt_model.plm.named_parameters() if not any(nd in n for nd in no_decay)], 'weight_decay': 0.01},\n",
        "    {'params': [p for n, p in prompt_model.plm.named_parameters() if any(nd in n for nd in no_decay)], 'weight_decay': 0.0}\n",
        "]\n",
        "\n",
        "# Using different optimizer for prompt parameters and model parameters\n",
        "optimizer_grouped_parameters2 = [\n",
        "    {'params': [p for n,p in prompt_model.template.named_parameters() if \"raw_embedding\" not in n]}\n",
        "]\n",
        "\n",
        "#---\n",
        "for n,p in prompt_model.named_parameters():\n",
        "    print(n)\n",
        "optimizer1 = AdamW(optimizer_grouped_parameters1, lr=1e-4)\n",
        "optimizer2 = AdamW(optimizer_grouped_parameters2, lr=1e-3)\n"
      ],
      "metadata": {
        "id": "-9GARHllRRgi",
        "colab": {
          "base_uri": "https://localhost:8080/"
        },
        "outputId": "ee5a0f69-1f98-4d8b-9c64-ea95f14c6ee8"
      },
      "execution_count": 54,
      "outputs": [
        {
          "output_type": "stream",
          "name": "stdout",
          "text": [
            "prompt_model.plm.shared.weight\n",
            "prompt_model.plm.encoder.block.0.layer.0.SelfAttention.q.weight\n",
            "prompt_model.plm.encoder.block.0.layer.0.SelfAttention.k.weight\n",
            "prompt_model.plm.encoder.block.0.layer.0.SelfAttention.v.weight\n",
            "prompt_model.plm.encoder.block.0.layer.0.SelfAttention.o.weight\n",
            "prompt_model.plm.encoder.block.0.layer.0.SelfAttention.relative_attention_bias.weight\n",
            "prompt_model.plm.encoder.block.0.layer.0.layer_norm.weight\n",
            "prompt_model.plm.encoder.block.0.layer.1.DenseReluDense.wi.weight\n",
            "prompt_model.plm.encoder.block.0.layer.1.DenseReluDense.wo.weight\n",
            "prompt_model.plm.encoder.block.0.layer.1.layer_norm.weight\n",
            "prompt_model.plm.encoder.block.1.layer.0.SelfAttention.q.weight\n",
            "prompt_model.plm.encoder.block.1.layer.0.SelfAttention.k.weight\n",
            "prompt_model.plm.encoder.block.1.layer.0.SelfAttention.v.weight\n",
            "prompt_model.plm.encoder.block.1.layer.0.SelfAttention.o.weight\n",
            "prompt_model.plm.encoder.block.1.layer.0.layer_norm.weight\n",
            "prompt_model.plm.encoder.block.1.layer.1.DenseReluDense.wi.weight\n",
            "prompt_model.plm.encoder.block.1.layer.1.DenseReluDense.wo.weight\n",
            "prompt_model.plm.encoder.block.1.layer.1.layer_norm.weight\n",
            "prompt_model.plm.encoder.block.2.layer.0.SelfAttention.q.weight\n",
            "prompt_model.plm.encoder.block.2.layer.0.SelfAttention.k.weight\n",
            "prompt_model.plm.encoder.block.2.layer.0.SelfAttention.v.weight\n",
            "prompt_model.plm.encoder.block.2.layer.0.SelfAttention.o.weight\n",
            "prompt_model.plm.encoder.block.2.layer.0.layer_norm.weight\n",
            "prompt_model.plm.encoder.block.2.layer.1.DenseReluDense.wi.weight\n",
            "prompt_model.plm.encoder.block.2.layer.1.DenseReluDense.wo.weight\n",
            "prompt_model.plm.encoder.block.2.layer.1.layer_norm.weight\n",
            "prompt_model.plm.encoder.block.3.layer.0.SelfAttention.q.weight\n",
            "prompt_model.plm.encoder.block.3.layer.0.SelfAttention.k.weight\n",
            "prompt_model.plm.encoder.block.3.layer.0.SelfAttention.v.weight\n",
            "prompt_model.plm.encoder.block.3.layer.0.SelfAttention.o.weight\n",
            "prompt_model.plm.encoder.block.3.layer.0.layer_norm.weight\n",
            "prompt_model.plm.encoder.block.3.layer.1.DenseReluDense.wi.weight\n",
            "prompt_model.plm.encoder.block.3.layer.1.DenseReluDense.wo.weight\n",
            "prompt_model.plm.encoder.block.3.layer.1.layer_norm.weight\n",
            "prompt_model.plm.encoder.block.4.layer.0.SelfAttention.q.weight\n",
            "prompt_model.plm.encoder.block.4.layer.0.SelfAttention.k.weight\n",
            "prompt_model.plm.encoder.block.4.layer.0.SelfAttention.v.weight\n",
            "prompt_model.plm.encoder.block.4.layer.0.SelfAttention.o.weight\n",
            "prompt_model.plm.encoder.block.4.layer.0.layer_norm.weight\n",
            "prompt_model.plm.encoder.block.4.layer.1.DenseReluDense.wi.weight\n",
            "prompt_model.plm.encoder.block.4.layer.1.DenseReluDense.wo.weight\n",
            "prompt_model.plm.encoder.block.4.layer.1.layer_norm.weight\n",
            "prompt_model.plm.encoder.block.5.layer.0.SelfAttention.q.weight\n",
            "prompt_model.plm.encoder.block.5.layer.0.SelfAttention.k.weight\n",
            "prompt_model.plm.encoder.block.5.layer.0.SelfAttention.v.weight\n",
            "prompt_model.plm.encoder.block.5.layer.0.SelfAttention.o.weight\n",
            "prompt_model.plm.encoder.block.5.layer.0.layer_norm.weight\n",
            "prompt_model.plm.encoder.block.5.layer.1.DenseReluDense.wi.weight\n",
            "prompt_model.plm.encoder.block.5.layer.1.DenseReluDense.wo.weight\n",
            "prompt_model.plm.encoder.block.5.layer.1.layer_norm.weight\n",
            "prompt_model.plm.encoder.block.6.layer.0.SelfAttention.q.weight\n",
            "prompt_model.plm.encoder.block.6.layer.0.SelfAttention.k.weight\n",
            "prompt_model.plm.encoder.block.6.layer.0.SelfAttention.v.weight\n",
            "prompt_model.plm.encoder.block.6.layer.0.SelfAttention.o.weight\n",
            "prompt_model.plm.encoder.block.6.layer.0.layer_norm.weight\n",
            "prompt_model.plm.encoder.block.6.layer.1.DenseReluDense.wi.weight\n",
            "prompt_model.plm.encoder.block.6.layer.1.DenseReluDense.wo.weight\n",
            "prompt_model.plm.encoder.block.6.layer.1.layer_norm.weight\n",
            "prompt_model.plm.encoder.block.7.layer.0.SelfAttention.q.weight\n",
            "prompt_model.plm.encoder.block.7.layer.0.SelfAttention.k.weight\n",
            "prompt_model.plm.encoder.block.7.layer.0.SelfAttention.v.weight\n",
            "prompt_model.plm.encoder.block.7.layer.0.SelfAttention.o.weight\n",
            "prompt_model.plm.encoder.block.7.layer.0.layer_norm.weight\n",
            "prompt_model.plm.encoder.block.7.layer.1.DenseReluDense.wi.weight\n",
            "prompt_model.plm.encoder.block.7.layer.1.DenseReluDense.wo.weight\n",
            "prompt_model.plm.encoder.block.7.layer.1.layer_norm.weight\n",
            "prompt_model.plm.encoder.block.8.layer.0.SelfAttention.q.weight\n",
            "prompt_model.plm.encoder.block.8.layer.0.SelfAttention.k.weight\n",
            "prompt_model.plm.encoder.block.8.layer.0.SelfAttention.v.weight\n",
            "prompt_model.plm.encoder.block.8.layer.0.SelfAttention.o.weight\n",
            "prompt_model.plm.encoder.block.8.layer.0.layer_norm.weight\n",
            "prompt_model.plm.encoder.block.8.layer.1.DenseReluDense.wi.weight\n",
            "prompt_model.plm.encoder.block.8.layer.1.DenseReluDense.wo.weight\n",
            "prompt_model.plm.encoder.block.8.layer.1.layer_norm.weight\n",
            "prompt_model.plm.encoder.block.9.layer.0.SelfAttention.q.weight\n",
            "prompt_model.plm.encoder.block.9.layer.0.SelfAttention.k.weight\n",
            "prompt_model.plm.encoder.block.9.layer.0.SelfAttention.v.weight\n",
            "prompt_model.plm.encoder.block.9.layer.0.SelfAttention.o.weight\n",
            "prompt_model.plm.encoder.block.9.layer.0.layer_norm.weight\n",
            "prompt_model.plm.encoder.block.9.layer.1.DenseReluDense.wi.weight\n",
            "prompt_model.plm.encoder.block.9.layer.1.DenseReluDense.wo.weight\n",
            "prompt_model.plm.encoder.block.9.layer.1.layer_norm.weight\n",
            "prompt_model.plm.encoder.block.10.layer.0.SelfAttention.q.weight\n",
            "prompt_model.plm.encoder.block.10.layer.0.SelfAttention.k.weight\n",
            "prompt_model.plm.encoder.block.10.layer.0.SelfAttention.v.weight\n",
            "prompt_model.plm.encoder.block.10.layer.0.SelfAttention.o.weight\n",
            "prompt_model.plm.encoder.block.10.layer.0.layer_norm.weight\n",
            "prompt_model.plm.encoder.block.10.layer.1.DenseReluDense.wi.weight\n",
            "prompt_model.plm.encoder.block.10.layer.1.DenseReluDense.wo.weight\n",
            "prompt_model.plm.encoder.block.10.layer.1.layer_norm.weight\n",
            "prompt_model.plm.encoder.block.11.layer.0.SelfAttention.q.weight\n",
            "prompt_model.plm.encoder.block.11.layer.0.SelfAttention.k.weight\n",
            "prompt_model.plm.encoder.block.11.layer.0.SelfAttention.v.weight\n",
            "prompt_model.plm.encoder.block.11.layer.0.SelfAttention.o.weight\n",
            "prompt_model.plm.encoder.block.11.layer.0.layer_norm.weight\n",
            "prompt_model.plm.encoder.block.11.layer.1.DenseReluDense.wi.weight\n",
            "prompt_model.plm.encoder.block.11.layer.1.DenseReluDense.wo.weight\n",
            "prompt_model.plm.encoder.block.11.layer.1.layer_norm.weight\n",
            "prompt_model.plm.encoder.final_layer_norm.weight\n",
            "prompt_model.plm.decoder.block.0.layer.0.SelfAttention.q.weight\n",
            "prompt_model.plm.decoder.block.0.layer.0.SelfAttention.k.weight\n",
            "prompt_model.plm.decoder.block.0.layer.0.SelfAttention.v.weight\n",
            "prompt_model.plm.decoder.block.0.layer.0.SelfAttention.o.weight\n",
            "prompt_model.plm.decoder.block.0.layer.0.SelfAttention.relative_attention_bias.weight\n",
            "prompt_model.plm.decoder.block.0.layer.0.layer_norm.weight\n",
            "prompt_model.plm.decoder.block.0.layer.1.EncDecAttention.q.weight\n",
            "prompt_model.plm.decoder.block.0.layer.1.EncDecAttention.k.weight\n",
            "prompt_model.plm.decoder.block.0.layer.1.EncDecAttention.v.weight\n",
            "prompt_model.plm.decoder.block.0.layer.1.EncDecAttention.o.weight\n",
            "prompt_model.plm.decoder.block.0.layer.1.layer_norm.weight\n",
            "prompt_model.plm.decoder.block.0.layer.2.DenseReluDense.wi.weight\n",
            "prompt_model.plm.decoder.block.0.layer.2.DenseReluDense.wo.weight\n",
            "prompt_model.plm.decoder.block.0.layer.2.layer_norm.weight\n",
            "prompt_model.plm.decoder.block.1.layer.0.SelfAttention.q.weight\n",
            "prompt_model.plm.decoder.block.1.layer.0.SelfAttention.k.weight\n",
            "prompt_model.plm.decoder.block.1.layer.0.SelfAttention.v.weight\n",
            "prompt_model.plm.decoder.block.1.layer.0.SelfAttention.o.weight\n",
            "prompt_model.plm.decoder.block.1.layer.0.layer_norm.weight\n",
            "prompt_model.plm.decoder.block.1.layer.1.EncDecAttention.q.weight\n",
            "prompt_model.plm.decoder.block.1.layer.1.EncDecAttention.k.weight\n",
            "prompt_model.plm.decoder.block.1.layer.1.EncDecAttention.v.weight\n",
            "prompt_model.plm.decoder.block.1.layer.1.EncDecAttention.o.weight\n",
            "prompt_model.plm.decoder.block.1.layer.1.layer_norm.weight\n",
            "prompt_model.plm.decoder.block.1.layer.2.DenseReluDense.wi.weight\n",
            "prompt_model.plm.decoder.block.1.layer.2.DenseReluDense.wo.weight\n",
            "prompt_model.plm.decoder.block.1.layer.2.layer_norm.weight\n",
            "prompt_model.plm.decoder.block.2.layer.0.SelfAttention.q.weight\n",
            "prompt_model.plm.decoder.block.2.layer.0.SelfAttention.k.weight\n",
            "prompt_model.plm.decoder.block.2.layer.0.SelfAttention.v.weight\n",
            "prompt_model.plm.decoder.block.2.layer.0.SelfAttention.o.weight\n",
            "prompt_model.plm.decoder.block.2.layer.0.layer_norm.weight\n",
            "prompt_model.plm.decoder.block.2.layer.1.EncDecAttention.q.weight\n",
            "prompt_model.plm.decoder.block.2.layer.1.EncDecAttention.k.weight\n",
            "prompt_model.plm.decoder.block.2.layer.1.EncDecAttention.v.weight\n",
            "prompt_model.plm.decoder.block.2.layer.1.EncDecAttention.o.weight\n",
            "prompt_model.plm.decoder.block.2.layer.1.layer_norm.weight\n",
            "prompt_model.plm.decoder.block.2.layer.2.DenseReluDense.wi.weight\n",
            "prompt_model.plm.decoder.block.2.layer.2.DenseReluDense.wo.weight\n",
            "prompt_model.plm.decoder.block.2.layer.2.layer_norm.weight\n",
            "prompt_model.plm.decoder.block.3.layer.0.SelfAttention.q.weight\n",
            "prompt_model.plm.decoder.block.3.layer.0.SelfAttention.k.weight\n",
            "prompt_model.plm.decoder.block.3.layer.0.SelfAttention.v.weight\n",
            "prompt_model.plm.decoder.block.3.layer.0.SelfAttention.o.weight\n",
            "prompt_model.plm.decoder.block.3.layer.0.layer_norm.weight\n",
            "prompt_model.plm.decoder.block.3.layer.1.EncDecAttention.q.weight\n",
            "prompt_model.plm.decoder.block.3.layer.1.EncDecAttention.k.weight\n",
            "prompt_model.plm.decoder.block.3.layer.1.EncDecAttention.v.weight\n",
            "prompt_model.plm.decoder.block.3.layer.1.EncDecAttention.o.weight\n",
            "prompt_model.plm.decoder.block.3.layer.1.layer_norm.weight\n",
            "prompt_model.plm.decoder.block.3.layer.2.DenseReluDense.wi.weight\n",
            "prompt_model.plm.decoder.block.3.layer.2.DenseReluDense.wo.weight\n",
            "prompt_model.plm.decoder.block.3.layer.2.layer_norm.weight\n",
            "prompt_model.plm.decoder.block.4.layer.0.SelfAttention.q.weight\n",
            "prompt_model.plm.decoder.block.4.layer.0.SelfAttention.k.weight\n",
            "prompt_model.plm.decoder.block.4.layer.0.SelfAttention.v.weight\n",
            "prompt_model.plm.decoder.block.4.layer.0.SelfAttention.o.weight\n",
            "prompt_model.plm.decoder.block.4.layer.0.layer_norm.weight\n",
            "prompt_model.plm.decoder.block.4.layer.1.EncDecAttention.q.weight\n",
            "prompt_model.plm.decoder.block.4.layer.1.EncDecAttention.k.weight\n",
            "prompt_model.plm.decoder.block.4.layer.1.EncDecAttention.v.weight\n",
            "prompt_model.plm.decoder.block.4.layer.1.EncDecAttention.o.weight\n",
            "prompt_model.plm.decoder.block.4.layer.1.layer_norm.weight\n",
            "prompt_model.plm.decoder.block.4.layer.2.DenseReluDense.wi.weight\n",
            "prompt_model.plm.decoder.block.4.layer.2.DenseReluDense.wo.weight\n",
            "prompt_model.plm.decoder.block.4.layer.2.layer_norm.weight\n",
            "prompt_model.plm.decoder.block.5.layer.0.SelfAttention.q.weight\n",
            "prompt_model.plm.decoder.block.5.layer.0.SelfAttention.k.weight\n",
            "prompt_model.plm.decoder.block.5.layer.0.SelfAttention.v.weight\n",
            "prompt_model.plm.decoder.block.5.layer.0.SelfAttention.o.weight\n",
            "prompt_model.plm.decoder.block.5.layer.0.layer_norm.weight\n",
            "prompt_model.plm.decoder.block.5.layer.1.EncDecAttention.q.weight\n",
            "prompt_model.plm.decoder.block.5.layer.1.EncDecAttention.k.weight\n",
            "prompt_model.plm.decoder.block.5.layer.1.EncDecAttention.v.weight\n",
            "prompt_model.plm.decoder.block.5.layer.1.EncDecAttention.o.weight\n",
            "prompt_model.plm.decoder.block.5.layer.1.layer_norm.weight\n",
            "prompt_model.plm.decoder.block.5.layer.2.DenseReluDense.wi.weight\n",
            "prompt_model.plm.decoder.block.5.layer.2.DenseReluDense.wo.weight\n",
            "prompt_model.plm.decoder.block.5.layer.2.layer_norm.weight\n",
            "prompt_model.plm.decoder.block.6.layer.0.SelfAttention.q.weight\n",
            "prompt_model.plm.decoder.block.6.layer.0.SelfAttention.k.weight\n",
            "prompt_model.plm.decoder.block.6.layer.0.SelfAttention.v.weight\n",
            "prompt_model.plm.decoder.block.6.layer.0.SelfAttention.o.weight\n",
            "prompt_model.plm.decoder.block.6.layer.0.layer_norm.weight\n",
            "prompt_model.plm.decoder.block.6.layer.1.EncDecAttention.q.weight\n",
            "prompt_model.plm.decoder.block.6.layer.1.EncDecAttention.k.weight\n",
            "prompt_model.plm.decoder.block.6.layer.1.EncDecAttention.v.weight\n",
            "prompt_model.plm.decoder.block.6.layer.1.EncDecAttention.o.weight\n",
            "prompt_model.plm.decoder.block.6.layer.1.layer_norm.weight\n",
            "prompt_model.plm.decoder.block.6.layer.2.DenseReluDense.wi.weight\n",
            "prompt_model.plm.decoder.block.6.layer.2.DenseReluDense.wo.weight\n",
            "prompt_model.plm.decoder.block.6.layer.2.layer_norm.weight\n",
            "prompt_model.plm.decoder.block.7.layer.0.SelfAttention.q.weight\n",
            "prompt_model.plm.decoder.block.7.layer.0.SelfAttention.k.weight\n",
            "prompt_model.plm.decoder.block.7.layer.0.SelfAttention.v.weight\n",
            "prompt_model.plm.decoder.block.7.layer.0.SelfAttention.o.weight\n",
            "prompt_model.plm.decoder.block.7.layer.0.layer_norm.weight\n",
            "prompt_model.plm.decoder.block.7.layer.1.EncDecAttention.q.weight\n",
            "prompt_model.plm.decoder.block.7.layer.1.EncDecAttention.k.weight\n",
            "prompt_model.plm.decoder.block.7.layer.1.EncDecAttention.v.weight\n",
            "prompt_model.plm.decoder.block.7.layer.1.EncDecAttention.o.weight\n",
            "prompt_model.plm.decoder.block.7.layer.1.layer_norm.weight\n",
            "prompt_model.plm.decoder.block.7.layer.2.DenseReluDense.wi.weight\n",
            "prompt_model.plm.decoder.block.7.layer.2.DenseReluDense.wo.weight\n",
            "prompt_model.plm.decoder.block.7.layer.2.layer_norm.weight\n",
            "prompt_model.plm.decoder.block.8.layer.0.SelfAttention.q.weight\n",
            "prompt_model.plm.decoder.block.8.layer.0.SelfAttention.k.weight\n",
            "prompt_model.plm.decoder.block.8.layer.0.SelfAttention.v.weight\n",
            "prompt_model.plm.decoder.block.8.layer.0.SelfAttention.o.weight\n",
            "prompt_model.plm.decoder.block.8.layer.0.layer_norm.weight\n",
            "prompt_model.plm.decoder.block.8.layer.1.EncDecAttention.q.weight\n",
            "prompt_model.plm.decoder.block.8.layer.1.EncDecAttention.k.weight\n",
            "prompt_model.plm.decoder.block.8.layer.1.EncDecAttention.v.weight\n",
            "prompt_model.plm.decoder.block.8.layer.1.EncDecAttention.o.weight\n",
            "prompt_model.plm.decoder.block.8.layer.1.layer_norm.weight\n",
            "prompt_model.plm.decoder.block.8.layer.2.DenseReluDense.wi.weight\n",
            "prompt_model.plm.decoder.block.8.layer.2.DenseReluDense.wo.weight\n",
            "prompt_model.plm.decoder.block.8.layer.2.layer_norm.weight\n",
            "prompt_model.plm.decoder.block.9.layer.0.SelfAttention.q.weight\n",
            "prompt_model.plm.decoder.block.9.layer.0.SelfAttention.k.weight\n",
            "prompt_model.plm.decoder.block.9.layer.0.SelfAttention.v.weight\n",
            "prompt_model.plm.decoder.block.9.layer.0.SelfAttention.o.weight\n",
            "prompt_model.plm.decoder.block.9.layer.0.layer_norm.weight\n",
            "prompt_model.plm.decoder.block.9.layer.1.EncDecAttention.q.weight\n",
            "prompt_model.plm.decoder.block.9.layer.1.EncDecAttention.k.weight\n",
            "prompt_model.plm.decoder.block.9.layer.1.EncDecAttention.v.weight\n",
            "prompt_model.plm.decoder.block.9.layer.1.EncDecAttention.o.weight\n",
            "prompt_model.plm.decoder.block.9.layer.1.layer_norm.weight\n",
            "prompt_model.plm.decoder.block.9.layer.2.DenseReluDense.wi.weight\n",
            "prompt_model.plm.decoder.block.9.layer.2.DenseReluDense.wo.weight\n",
            "prompt_model.plm.decoder.block.9.layer.2.layer_norm.weight\n",
            "prompt_model.plm.decoder.block.10.layer.0.SelfAttention.q.weight\n",
            "prompt_model.plm.decoder.block.10.layer.0.SelfAttention.k.weight\n",
            "prompt_model.plm.decoder.block.10.layer.0.SelfAttention.v.weight\n",
            "prompt_model.plm.decoder.block.10.layer.0.SelfAttention.o.weight\n",
            "prompt_model.plm.decoder.block.10.layer.0.layer_norm.weight\n",
            "prompt_model.plm.decoder.block.10.layer.1.EncDecAttention.q.weight\n",
            "prompt_model.plm.decoder.block.10.layer.1.EncDecAttention.k.weight\n",
            "prompt_model.plm.decoder.block.10.layer.1.EncDecAttention.v.weight\n",
            "prompt_model.plm.decoder.block.10.layer.1.EncDecAttention.o.weight\n",
            "prompt_model.plm.decoder.block.10.layer.1.layer_norm.weight\n",
            "prompt_model.plm.decoder.block.10.layer.2.DenseReluDense.wi.weight\n",
            "prompt_model.plm.decoder.block.10.layer.2.DenseReluDense.wo.weight\n",
            "prompt_model.plm.decoder.block.10.layer.2.layer_norm.weight\n",
            "prompt_model.plm.decoder.block.11.layer.0.SelfAttention.q.weight\n",
            "prompt_model.plm.decoder.block.11.layer.0.SelfAttention.k.weight\n",
            "prompt_model.plm.decoder.block.11.layer.0.SelfAttention.v.weight\n",
            "prompt_model.plm.decoder.block.11.layer.0.SelfAttention.o.weight\n",
            "prompt_model.plm.decoder.block.11.layer.0.layer_norm.weight\n",
            "prompt_model.plm.decoder.block.11.layer.1.EncDecAttention.q.weight\n",
            "prompt_model.plm.decoder.block.11.layer.1.EncDecAttention.k.weight\n",
            "prompt_model.plm.decoder.block.11.layer.1.EncDecAttention.v.weight\n",
            "prompt_model.plm.decoder.block.11.layer.1.EncDecAttention.o.weight\n",
            "prompt_model.plm.decoder.block.11.layer.1.layer_norm.weight\n",
            "prompt_model.plm.decoder.block.11.layer.2.DenseReluDense.wi.weight\n",
            "prompt_model.plm.decoder.block.11.layer.2.DenseReluDense.wo.weight\n",
            "prompt_model.plm.decoder.block.11.layer.2.layer_norm.weight\n",
            "prompt_model.plm.decoder.final_layer_norm.weight\n",
            "prompt_model.template.soft_embedding.weight\n",
            "verbalizer.label_words_ids\n",
            "verbalizer.words_ids_mask\n",
            "verbalizer.label_words_mask\n"
          ]
        },
        {
          "output_type": "stream",
          "name": "stderr",
          "text": [
            "/usr/local/lib/python3.10/dist-packages/transformers/optimization.py:411: FutureWarning: This implementation of AdamW is deprecated and will be removed in a future version. Use the PyTorch implementation torch.optim.AdamW instead, or set `no_deprecation_warning=True` to disable this warning\n",
            "  warnings.warn(\n"
          ]
        }
      ]
    },
    {
      "cell_type": "code",
      "source": [
        "#----\n",
        "from tqdm import tqdm\n",
        "loss_list=[]\n",
        "for epoch in range(10):\n",
        "    tot_loss = 0\n",
        "    for step, inputs in enumerate(tqdm(train_dataloader)):\n",
        "        if use_cuda:\n",
        "            inputs = inputs.cuda()\n",
        "        logits = prompt_model(inputs)\n",
        "        labels = inputs['label']\n",
        "        loss = loss_func(logits, labels)\n",
        "        loss.backward()\n",
        "        tot_loss += loss.item()\n",
        "        optimizer1.step()\n",
        "        optimizer1.zero_grad()\n",
        "        optimizer2.step()\n",
        "        optimizer2.zero_grad()\n",
        "        loss_list.append(loss.item())\n",
        "    tot_loss=tot_loss/len(train_dataloader)\n",
        "    print('Training Loss: {:.6f}'.format(tot_loss))\n",
        "#---\n",
        "import matplotlib.pyplot as plt\n",
        "plt.figure(dpi=200)\n",
        "plt.rcParams['font.family']='serif'\n",
        "plt.plot(range(len(loss_list)),loss_list)"
      ],
      "metadata": {
        "id": "1spx_NFeXRAB",
        "colab": {
          "base_uri": "https://localhost:8080/",
          "height": 1000
        },
        "outputId": "cd310db6-d022-4c67-ddf0-a5a205291f42"
      },
      "execution_count": 55,
      "outputs": [
        {
          "output_type": "stream",
          "name": "stderr",
          "text": [
            "100%|██████████| 265/265 [01:55<00:00,  2.30it/s]\n"
          ]
        },
        {
          "output_type": "stream",
          "name": "stdout",
          "text": [
            "Training Loss: 0.480193\n"
          ]
        },
        {
          "output_type": "stream",
          "name": "stderr",
          "text": [
            "100%|██████████| 265/265 [01:55<00:00,  2.30it/s]\n"
          ]
        },
        {
          "output_type": "stream",
          "name": "stdout",
          "text": [
            "Training Loss: 0.220791\n"
          ]
        },
        {
          "output_type": "stream",
          "name": "stderr",
          "text": [
            "100%|██████████| 265/265 [01:54<00:00,  2.31it/s]\n"
          ]
        },
        {
          "output_type": "stream",
          "name": "stdout",
          "text": [
            "Training Loss: 0.073695\n"
          ]
        },
        {
          "output_type": "stream",
          "name": "stderr",
          "text": [
            "100%|██████████| 265/265 [01:55<00:00,  2.30it/s]\n"
          ]
        },
        {
          "output_type": "stream",
          "name": "stdout",
          "text": [
            "Training Loss: 0.036188\n"
          ]
        },
        {
          "output_type": "stream",
          "name": "stderr",
          "text": [
            "100%|██████████| 265/265 [01:54<00:00,  2.31it/s]\n"
          ]
        },
        {
          "output_type": "stream",
          "name": "stdout",
          "text": [
            "Training Loss: 0.023653\n"
          ]
        },
        {
          "output_type": "stream",
          "name": "stderr",
          "text": [
            "100%|██████████| 265/265 [01:54<00:00,  2.31it/s]\n"
          ]
        },
        {
          "output_type": "stream",
          "name": "stdout",
          "text": [
            "Training Loss: 0.023689\n"
          ]
        },
        {
          "output_type": "stream",
          "name": "stderr",
          "text": [
            "100%|██████████| 265/265 [01:54<00:00,  2.31it/s]\n"
          ]
        },
        {
          "output_type": "stream",
          "name": "stdout",
          "text": [
            "Training Loss: 0.040320\n"
          ]
        },
        {
          "output_type": "stream",
          "name": "stderr",
          "text": [
            "100%|██████████| 265/265 [01:55<00:00,  2.30it/s]\n"
          ]
        },
        {
          "output_type": "stream",
          "name": "stdout",
          "text": [
            "Training Loss: 0.024844\n"
          ]
        },
        {
          "output_type": "stream",
          "name": "stderr",
          "text": [
            "100%|██████████| 265/265 [01:55<00:00,  2.30it/s]\n"
          ]
        },
        {
          "output_type": "stream",
          "name": "stdout",
          "text": [
            "Training Loss: 0.026237\n"
          ]
        },
        {
          "output_type": "stream",
          "name": "stderr",
          "text": [
            "100%|██████████| 265/265 [01:55<00:00,  2.30it/s]"
          ]
        },
        {
          "output_type": "stream",
          "name": "stdout",
          "text": [
            "Training Loss: 0.012567\n"
          ]
        },
        {
          "output_type": "stream",
          "name": "stderr",
          "text": [
            "\n"
          ]
        },
        {
          "output_type": "execute_result",
          "data": {
            "text/plain": [
              "[<matplotlib.lines.Line2D at 0x79e7a07c8910>]"
            ]
          },
          "metadata": {},
          "execution_count": 55
        },
        {
          "output_type": "display_data",
          "data": {
            "text/plain": [
              "<Figure size 1280x960 with 1 Axes>"
            ],
            "image/png": "[encoded data removed]"
          },
          "metadata": {}
        }
      ]
    },
    {
      "cell_type": "code",
      "source": [
        "import matplotlib.pyplot as plt\n",
        "\n",
        "plt.figure(dpi=100)\n",
        "plt.rcParams['font.family'] = 'serif'\n",
        "\n",
        "# Plotting the loss over training steps\n",
        "plt.plot(range(len(loss_list)), loss_list)\n",
        "\n",
        "# Naming the x-axis and y-axis\n",
        "plt.xlabel('Training Steps')\n",
        "plt.ylabel('Loss')\n",
        "\n",
        "# Adding a title to the plot\n",
        "plt.title('Training Loss Over Time')\n",
        "\n",
        "plt.savefig(\"loss-t5-10epoch2.png\")\n",
        "# Display the plot\n",
        "plt.show()\n"
      ],
      "metadata": {
        "colab": {
          "base_uri": "https://localhost:8080/",
          "height": 469
        },
        "id": "WmLEHP4XiJYi",
        "outputId": "8d273737-a521-4657-d1a1-c9cbd75a7063"
      },
      "execution_count": 56,
      "outputs": [
        {
          "output_type": "display_data",
          "data": {
            "text/plain": [
              "<Figure size 640x480 with 1 Axes>"
            ],
            "image/png": "[encoded data removed]"
          },
          "metadata": {}
        }
      ]
    },
    {
      "cell_type": "code",
      "source": [
        "allpreds = []\n",
        "alllabels = []\n",
        "for step, inputs in enumerate(tqdm(validation_dataloader)):\n",
        "    if use_cuda:\n",
        "        inputs = inputs.cuda()\n",
        "    logits = prompt_model(inputs)\n",
        "    labels = inputs['label']\n",
        "    alllabels.extend(labels.cpu().tolist())\n",
        "    allpreds.extend(torch.argmax(logits, dim=-1).cpu().tolist())"
      ],
      "metadata": {
        "id": "H3JHULsPRoc7",
        "colab": {
          "base_uri": "https://localhost:8080/"
        },
        "outputId": "1221ef94-632f-4553-a57d-d21afd27c57f"
      },
      "execution_count": 57,
      "outputs": [
        {
          "output_type": "stream",
          "name": "stderr",
          "text": [
            "100%|██████████| 26/26 [00:03<00:00,  7.39it/s]\n"
          ]
        }
      ]
    },
    {
      "cell_type": "code",
      "source": [
        "acc = sum([int(i==j) for i,j in zip(allpreds, alllabels)])/len(allpreds)\n",
        "print(acc)"
      ],
      "metadata": {
        "id": "CkLfj9zpRqw2",
        "colab": {
          "base_uri": "https://localhost:8080/"
        },
        "outputId": "a437dbdb-a5d3-43be-a550-a6e218832294"
      },
      "execution_count": 58,
      "outputs": [
        {
          "output_type": "stream",
          "name": "stdout",
          "text": [
            "0.8514851485148515\n"
          ]
        }
      ]
    },
    {
      "cell_type": "code",
      "source": [
        "from google.colab import files\n",
        "\n",
        "pred_df = pd.DataFrame(allpreds)\n",
        "pred_df.to_csv('predict_t5-10epoch2.csv', index=False)\n",
        "\n",
        "# Download the file to your local machine\n",
        "files.download('predict_t5-10epoch2.csv')\n"
      ],
      "metadata": {
        "colab": {
          "base_uri": "https://localhost:8080/",
          "height": 32
        },
        "id": "OJlSwaK3fFLE",
        "outputId": "a9423fed-cb97-47e0-bdb1-286613215cac"
      },
      "execution_count": 59,
      "outputs": [
        {
          "output_type": "display_data",
          "data": {
            "text/plain": [
              "<IPython.core.display.Javascript object>"
            ],
            "application/javascript": [
              "\n",
              "    async function download(id, filename, size) {\n",
              "      if (!google.colab.kernel.accessAllowed) {\n",
              "        return;\n",
              "      }\n",
              "      const div = document.createElement('div');\n",
              "      const label = document.createElement('label');\n",
              "      label.textContent = `Downloading \"${filename}\": `;\n",
              "      div.appendChild(label);\n",
              "      const progress = document.createElement('progress');\n",
              "      progress.max = size;\n",
              "      div.appendChild(progress);\n",
              "      document.body.appendChild(div);\n",
              "\n",
              "      const buffers = [];\n",
              "      let downloaded = 0;\n",
              "\n",
              "      const channel = await google.colab.kernel.comms.open(id);\n",
              "      // Send a message to notify the kernel that we're ready.\n",
              "      channel.send({})\n",
              "\n",
              "      for await (const message of channel.messages) {\n",
              "        // Send a message to notify the kernel that we're ready.\n",
              "        channel.send({})\n",
              "        if (message.buffers) {\n",
              "          for (const buffer of message.buffers) {\n",
              "            buffers.push(buffer);\n",
              "            downloaded += buffer.byteLength;\n",
              "            progress.value = downloaded;\n",
              "          }\n",
              "        }\n",
              "      }\n",
              "      const blob = new Blob(buffers, {type: 'application/binary'});\n",
              "      const a = document.createElement('a');\n",
              "      a.href = window.URL.createObjectURL(blob);\n",
              "      a.download = filename;\n",
              "      div.appendChild(a);\n",
              "      a.click();\n",
              "      div.remove();\n",
              "    }\n",
              "  "
            ]
          },
          "metadata": {}
        },
        {
          "output_type": "display_data",
          "data": {
            "text/plain": [
              "<IPython.core.display.Javascript object>"
            ],
            "application/javascript": [
              "download(\"download_8d266b4b-21ce-46b3-ba06-e874304ed1c3\", \"predict_t5-10epoch2.csv\", 406)"
            ]
          },
          "metadata": {}
        }
      ]
    }
  ],
  "metadata": {
    "kernelspec": {
      "display_name": "Python 3",
      "name": "python3"
    },
    "language_info": {
      "codemirror_mode": {
        "name": "ipython",
        "version": 3
      },
      "file_extension": ".py",
      "mimetype": "text/x-python",
      "name": "python",
      "nbconvert_exporter": "python",
      "pygments_lexer": "ipython3",
      "version": "3.8.9"
    },
    "colab": {
      "provenance": [],
      "gpuType": "T4",
      "machine_shape": "hm"
    },
    "accelerator": "GPU"
  },
  "nbformat": 4,
  "nbformat_minor": 0
}