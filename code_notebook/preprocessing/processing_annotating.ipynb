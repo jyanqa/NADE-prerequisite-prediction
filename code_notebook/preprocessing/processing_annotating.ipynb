{
 "cells": [
  {
   "cell_type": "code",
   "execution_count": 30,
   "metadata": {},
   "outputs": [],
   "source": [
    "# #read data from testset_complete\n",
    "# import pandas as pd\n",
    "# import numpy as np\n",
    "# import json\n",
    "\n",
    "# # Specify the file path\n",
    "# file_path = './data-other/fredin/data/testset_complete/calculus-volume-2.json'\n",
    "\n",
    "# # Read the JSON file\n",
    "# with open(file_path, 'r') as file:\n",
    "#     data = json.load(file)\n",
    "\n",
    "# # Print the imported data\n",
    "# print(data)\n"
   ]
  },
  {
   "cell_type": "code",
   "execution_count": 31,
   "metadata": {},
   "outputs": [
    {
     "name": "stdout",
     "output_type": "stream",
     "text": [
      "We close this section with a brief introduction to { Bessel functions } [ Bessel functions ] .\n",
      "When studying motion in three dimensions , two other vectors are useful in describing the motion of a particle along a path in space: the principal unit normal vector and the { binormal vector } [ Binormal vector ] .\n",
      "In particular , the constant multiple rule , the sum and difference rules , the product rule , and the { chain rule } [ Chain rule ] all extend to vector-valued functions .\n",
      " The { chambered nautilus } [ Chambered Nautilus ] is a fascinating creature .\n",
      "The line integral of vector field F along an oriented closed curve is called the { circulation } [ Circulation (physics) ] of F along C .\n",
      "In this section , we study a special kind of vector field called a gradient field or a { conservative field } [ Conservative field ] .\n",
      "In particular , the { constant multiple rule } [ Constant multiple rule ] , the sum and difference rules , the product rule , and the chain rule all extend to vector-valued functions .\n",
      "Example 4 .41 was an applied situation involving maximizing a profit function , subject to certain { constraints } [ Constraint (mathematics) ] .\n",
      "A graph of the various level curves of a function is called a { contour map } [ Contour map ] .\n",
      "In three dimensions , we define { coordinate planes } [ Coordinate planes ] by the coordinate axes , just as in two dimensions .\n",
      "A set of lines parallel to a given line passing through a given curve is known as a cylindrical surface , or { cylinder } [ Cylinder (disambiguation) ] .\n",
      "First , we define the { derivative } [ Derivative ] , then we examine applications of the derivative , then we move on to defining integrals .\n",
      "We can calculate the cross product of two vectors using { determinant } [ Determinant ] notation .\n",
      "The cosines for these angles are called the { direction cosines } [ Direction cosines ] .\n",
      "As in two dimensions , we can describe a line in space using a point on the line and the direction of the line , or a parallel vector , which we call the { direction vector } [ Direction vector ] .\n",
      "If we think of divergence as a derivative of sorts , then the { divergence theorem } [ Divergence Theorem ] relates a triple integral of derivative divF over a solid to a flux integral of F over the boundary of the solid .\n",
      "One of the most common applications of the divergence theorem is to { electrostatic fields } [ Electrostatic fields ] .\n",
      "A surface integral over a vector field is also called a { flux integral } [ Flux integral ] .\n",
      "Because vectors have both direction and magnitude , they are valuable tools for solving problems involving such applications as motion and { force } [ Force ] .\n",
      "An important result in this subject is { Gauss’ law } [ Gauss’ law ] .\n",
      "Another useful tool for understanding the { graph of a function of two variables } [ Graph of a function of two variables ] is called a vertical trace .\n",
      "We can apply the process of finding a potential function to a { gravitational force } [ Gravity ] .\n",
      "{ Green’s theorem } [ Green’s theorem ] takes this idea and extends it to calculating double integrals .\n",
      "A function that satisfies Laplace’s equation is called a { harmonic function } [ Harmonic function ] .\n",
      "A { line integral } [ Line integral ] gives us the ability to integrate multivariable functions and vector fields over arbitrary curves in a plane or in space .\n",
      "A set of functions that is not linearly dependent is said to be { linearly independent } [ Linearly independent ] .\n",
      "The length of the line segment represents its { magnitude } [ Magnitude (mathematics) ] .\n",
      "The { mass flux } [ Mass flux ] of the fluid is the rate of mass flow per unit area .\n",
      "This idea is the basis of the { method of Lagrange multipliers } [ Method of Lagrange Multipliers ] .\n",
      "We use an approach called the { method of variation of parameters } [ Method of variation of parameters ] .\n",
      "The unit normal vector and the binormal vector form a plane that is perpendicular to the curve at any point on the curve , called the { normal plane } [ Normal plane (geometry) ] .\n",
      "If this circle lies on the concave side of the curve and is tangent to the curve at point P , then this circle is called the { osculating circle } [ Osculating circle ] of C at P , as shown in the following figure .\n",
      "Then these vectors form three edges of a { parallelepiped } [ Parallelepiped ] , a three-dimensional prism with six faces that are each parallelograms , as shown in Figure 2 .59 .\n",
      "The parameters u and v vary over a region called the parameter domain , or { parameter space } [ Parameter space ]—the set of points in the uv-plane that can be substituted into r .\n",
      "That is , we need a working concept of a parameterized surface (or a { parametric surface } [ Parametric surface ]) , in the same way that we already have a concept of a parameterized curve .\n",
      "A { partial differential equation } [ Partial Differential Equation ] is an equation that involves an unknown function of more than one independent variable and one or more of its partial derivatives .\n",
      "In particular , the constant multiple rule , the sum and difference rules , the { product rule } [ Product rule ] , and the chain rule all extend to vector-valued functions .\n",
      "This situation , with an object moving with an initial velocity but with no forces acting on it other than gravity , is known as { projectile motion } [ Projectile motion ] .\n",
      "If an external force acting on the system has a frequency close to the natural frequency of the system , a phenomenon called { resonance } [ Resonance ] results .\n",
      "The system displayed follows the { right-hand rule } [ Right-Hand Rule ] .\n",
      "Such a circuit is called an { RLC series circuit } [ RLC series circuit ] .\n",
      "One way this can happen is at a { saddle point } [ Saddle point ] .\n",
      "A real number is often called a { scalar } [ Real number ] in mathematics and physics .\n",
      "The motion of the mass is called { simple harmonic motion } [ Simple harmonic motion ] .\n",
      "If two lines in space are not parallel , but do not intersect , then the lines are said to be { skew lines } [ Skew lines ] .\n",
      "A { sphere } [ Sphere ] is the set of all points in space equidistant from a fixed point , the center of the sphere , just as the set of all points in a plane that are equidistant from the center represents a circle .\n",
      "(This is commonly called a { spring-mass system } [ Spring-mass system ] .)\n",
      "The proof of this { superposition principle } [ Superposition principle ] theorem is left as an exercise .\n",
      "One of the most famous examples of resonance is the collapse of the { Tacoma Narrows Bridge } [ Tacoma Narrows bridge ] on November 7 , 1940 .\n",
      "A { topographical map } [ Topographical map ] contains curved lines called contour lines .\n",
      "Generally , the function that we use to change the variables to make the integration simpler is called a { transformation } [ Integral transform ] or mapping .\n",
      "A quantity that has magnitude and direction is called a { vector } [ Vector (mathematics and physics) ] .\n",
      "The cross product results in a vector , so it is sometimes called the { vector product } [ Cross product ] .\n",
      "The { vector projection } [ Vector projection ] of v onto u is the vector labeled projuv in Figure 2 .50 .\n",
      "Our starting point is using { vector-valued functions } [ Vector-valued functions ] to represent the position of an object as a function of time .\n",
      "\n"
     ]
    }
   ],
   "source": [
    "# Specify the file paths\n",
    "source_file_path = './data-other/fredin/data/trainingset/openstax_finetuning_base/calculus-volume-3_source.txt'\n",
    "target_file_path = './data-other/fredin/data/trainingset/openstax_finetuning_base/calculus-volume-3_target.txt'\n",
    "\n",
    "# Read the source file\n",
    "with open(source_file_path, 'r') as source_file:\n",
    "    source_data = source_file.read()\n",
    "source_data = source_data.split('\\n')\n",
    "\n",
    "# Read the target file\n",
    "with open(target_file_path, 'r') as target_file:\n",
    "    target_data = target_file.read()\n",
    "\n",
    "# Print the imported data\n",
    "print(target_data)"
   ]
  },
  {
   "cell_type": "code",
   "execution_count": 41,
   "metadata": {},
   "outputs": [],
   "source": [
    "# # Create a DataFrame\n",
    "import re\n",
    "\n",
    "# Define the regular expression pattern\n",
    "pattern = r'\\{([^{}]*)\\}'\n",
    "\n",
    "# Find all matches in each line of the target data\n",
    "terms = []\n",
    "for line in target_data.split('\\n'):\n",
    "    matches = re.findall(pattern, line, re.MULTILINE)\n",
    "    terms.append([match.replace('[', '').replace(']', '') for match in matches])\n"
   ]
  },
  {
   "cell_type": "markdown",
   "metadata": {},
   "source": [
    "### dataframe \n",
    "Creating of text and learning concepts"
   ]
  },
  {
   "cell_type": "code",
   "execution_count": 44,
   "metadata": {},
   "outputs": [
    {
     "data": {
      "text/html": [
       "<div>\n",
       "<style scoped>\n",
       "    .dataframe tbody tr th:only-of-type {\n",
       "        vertical-align: middle;\n",
       "    }\n",
       "\n",
       "    .dataframe tbody tr th {\n",
       "        vertical-align: top;\n",
       "    }\n",
       "\n",
       "    .dataframe thead th {\n",
       "        text-align: right;\n",
       "    }\n",
       "</style>\n",
       "<table border=\"1\" class=\"dataframe\">\n",
       "  <thead>\n",
       "    <tr style=\"text-align: right;\">\n",
       "      <th></th>\n",
       "      <th>Source Data</th>\n",
       "      <th>Extracted Terms</th>\n",
       "    </tr>\n",
       "  </thead>\n",
       "  <tbody>\n",
       "    <tr>\n",
       "      <th>0</th>\n",
       "      <td>We close this section with a brief introductio...</td>\n",
       "      <td>[ Bessel functions ]</td>\n",
       "    </tr>\n",
       "    <tr>\n",
       "      <th>1</th>\n",
       "      <td>When studying motion in three dimensions , two...</td>\n",
       "      <td>[ binormal vector ]</td>\n",
       "    </tr>\n",
       "    <tr>\n",
       "      <th>2</th>\n",
       "      <td>In particular , the constant multiple rule , t...</td>\n",
       "      <td>[ chain rule ]</td>\n",
       "    </tr>\n",
       "    <tr>\n",
       "      <th>3</th>\n",
       "      <td>The chambered nautilus is a fascinating creat...</td>\n",
       "      <td>[ chambered nautilus ]</td>\n",
       "    </tr>\n",
       "    <tr>\n",
       "      <th>4</th>\n",
       "      <td>The line integral of vector field F along an o...</td>\n",
       "      <td>[ circulation ]</td>\n",
       "    </tr>\n",
       "  </tbody>\n",
       "</table>\n",
       "</div>"
      ],
      "text/plain": [
       "                                         Source Data         Extracted Terms\n",
       "0  We close this section with a brief introductio...    [ Bessel functions ]\n",
       "1  When studying motion in three dimensions , two...     [ binormal vector ]\n",
       "2  In particular , the constant multiple rule , t...          [ chain rule ]\n",
       "3   The chambered nautilus is a fascinating creat...  [ chambered nautilus ]\n",
       "4  The line integral of vector field F along an o...         [ circulation ]"
      ]
     },
     "execution_count": 44,
     "metadata": {},
     "output_type": "execute_result"
    }
   ],
   "source": [
    "import pandas as pd\n",
    "\n",
    "# Create a dictionary with the data\n",
    "data = {'Source Data': source_data,\n",
    "    'Extracted Terms': terms}\n",
    "\n",
    "# Create the dataframe\n",
    "df = pd.DataFrame(data)\n",
    "\n",
    "# Print the dataframe\n",
    "df.head(5)\n"
   ]
  },
  {
   "cell_type": "markdown",
   "metadata": {},
   "source": [
    "## Manual annotating label"
   ]
  },
  {
   "cell_type": "code",
   "execution_count": 64,
   "metadata": {},
   "outputs": [
    {
     "name": "stdout",
     "output_type": "stream",
     "text": [
      "[(' Bessel functions ', ' chain rule '), (' Bessel functions ', ' chambered nautilus '), (' Bessel functions ', ' circulation '), (' Bessel functions ', ' conservative field ')]\n"
     ]
    }
   ],
   "source": [
    "import itertools\n",
    "\n",
    "# Flatten the nested list\n",
    "flat_terms = list(itertools.chain.from_iterable(terms)) #terms from nested list to flat list\n",
    "\n",
    "# Create all possible pairs of terms\n",
    "pairs = list(itertools.permutations(flat_terms, 2)) # Find all possible pairs in flat_terms considering direction\n",
    "\n",
    "# Print the pairs\n",
    "print(pairs[1:5])\n"
   ]
  },
  {
   "cell_type": "code",
   "execution_count": 63,
   "metadata": {},
   "outputs": [
    {
     "name": "stdout",
     "output_type": "stream",
     "text": [
      "[]\n"
     ]
    }
   ],
   "source": [
    "from collections import Counter\n",
    "\n",
    "# Count the occurrences of each term\n",
    "term_counts = Counter(flat_terms)\n",
    "\n",
    "# Find the duplicate terms\n",
    "duplicate_terms = [term for term, count in term_counts.items() if count > 1]\n",
    "\n",
    "# Print the duplicate terms\n",
    "print(duplicate_terms)\n"
   ]
  },
  {
   "cell_type": "code",
   "execution_count": 68,
   "metadata": {},
   "outputs": [],
   "source": [
    "import itertools\n",
    "\n",
    "# Find all possible pairs in flat_terms considering direction\n",
    "pairs_with_direction = list(itertools.permutations(flat_terms, 2))\n",
    "\n",
    "# Print the pairs with direction\n",
    "import random\n",
    "\n",
    "# Choose 100 random pairs from pairs_with_direction\n",
    "random_pairs = random.sample(pairs_with_direction, 100)\n",
    "\n",
    "# save it to excel file\n",
    "\n",
    "# Create a DataFrame\n",
    "df = pd.DataFrame(random_pairs, columns=['term1', 'term2'])\n",
    "df.to_csv('random_pairs.csv', index=False)\n"
   ]
  },
  {
   "cell_type": "code",
   "execution_count": 70,
   "metadata": {},
   "outputs": [
    {
     "data": {
      "text/html": [
       "<div>\n",
       "<style scoped>\n",
       "    .dataframe tbody tr th:only-of-type {\n",
       "        vertical-align: middle;\n",
       "    }\n",
       "\n",
       "    .dataframe tbody tr th {\n",
       "        vertical-align: top;\n",
       "    }\n",
       "\n",
       "    .dataframe thead th {\n",
       "        text-align: right;\n",
       "    }\n",
       "</style>\n",
       "<table border=\"1\" class=\"dataframe\">\n",
       "  <thead>\n",
       "    <tr style=\"text-align: right;\">\n",
       "      <th></th>\n",
       "      <th>term1</th>\n",
       "      <th>term2</th>\n",
       "    </tr>\n",
       "  </thead>\n",
       "  <tbody>\n",
       "    <tr>\n",
       "      <th>0</th>\n",
       "      <td>flux integral</td>\n",
       "      <td>vector</td>\n",
       "    </tr>\n",
       "    <tr>\n",
       "      <th>1</th>\n",
       "      <td>skew lines</td>\n",
       "      <td>gravitational force</td>\n",
       "    </tr>\n",
       "    <tr>\n",
       "      <th>2</th>\n",
       "      <td>electrostatic fields</td>\n",
       "      <td>skew lines</td>\n",
       "    </tr>\n",
       "    <tr>\n",
       "      <th>3</th>\n",
       "      <td>harmonic function</td>\n",
       "      <td>electrostatic fields</td>\n",
       "    </tr>\n",
       "    <tr>\n",
       "      <th>4</th>\n",
       "      <td>osculating circle</td>\n",
       "      <td>harmonic function</td>\n",
       "    </tr>\n",
       "  </tbody>\n",
       "</table>\n",
       "</div>"
      ],
      "text/plain": [
       "                    term1                   term2\n",
       "0          flux integral                  vector \n",
       "1             skew lines     gravitational force \n",
       "2   electrostatic fields              skew lines \n",
       "3      harmonic function    electrostatic fields \n",
       "4      osculating circle       harmonic function "
      ]
     },
     "execution_count": 70,
     "metadata": {},
     "output_type": "execute_result"
    }
   ],
   "source": [
    "df.head()"
   ]
  },
  {
   "cell_type": "code",
   "execution_count": null,
   "metadata": {},
   "outputs": [],
   "source": []
  }
 ],
 "metadata": {
  "kernelspec": {
   "display_name": "Python 3",
   "language": "python",
   "name": "python3"
  },
  "language_info": {
   "codemirror_mode": {
    "name": "ipython",
    "version": 3
   },
   "file_extension": ".py",
   "mimetype": "text/x-python",
   "name": "python",
   "nbconvert_exporter": "python",
   "pygments_lexer": "ipython3",
   "version": "3.9.7"
  }
 },
 "nbformat": 4,
 "nbformat_minor": 2
}
